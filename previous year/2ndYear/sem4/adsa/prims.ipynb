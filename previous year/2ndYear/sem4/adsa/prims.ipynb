{
 "cells": [
  {
   "cell_type": "code",
   "execution_count": 4,
   "metadata": {},
   "outputs": [
    {
     "name": "stdout",
     "output_type": "stream",
     "text": [
      "Edge : Weight\n",
      "0 - 1 : 3\n",
      "0 - 2 : 1\n",
      "2 - 3 : 4\n"
     ]
    }
   ],
   "source": [
    "def min_key(key, mst_set):\n",
    "    min_val = float('inf')\n",
    "    min_index = -1\n",
    "\n",
    "    for v in range(len(key)):\n",
    "        if key[v] < min_val and not mst_set[v]:\n",
    "            min_val = key[v]\n",
    "            min_index = v\n",
    "\n",
    "    return min_index\n",
    "\n",
    "\n",
    "def print_mst(parent, graph):\n",
    "    print(\"Edge : Weight\")\n",
    "    for i in range(1, len(graph)):\n",
    "        print(parent[i], \"-\", i, \":\", graph[i][parent[i]])\n",
    "\n",
    "# Prim's algorithm function\n",
    "def prim_mst(graph):\n",
    "    V = len(graph)\n",
    "    parent = [-1] * V  \n",
    "    key = [float('inf')] * V  \n",
    "    mst_set = [False] * V  \n",
    "\n",
    "    key[0] = 0  \n",
    "    parent[0] = -1  # First node is always the root of MST\n",
    "\n",
    "    for _ in range(V):\n",
    "        u = min_key(key, mst_set)\n",
    "        mst_set[u] = True\n",
    "        for v in range(V):\n",
    "            if 0 < graph[u][v] < key[v] and not mst_set[v]:\n",
    "                key[v] = graph[u][v]\n",
    "                parent[v] = u# Example usage]\n",
    "                \n",
    "\n",
    "    return parent\n",
    "\n",
    "+6 \n",
    "graph = [\n",
    "    [0, 3, 1, 6],\n",
    "    [3, 0, 5, 0],\n",
    "    [1, 5, 0, 4],\n",
    "    [6, 0, 4, 0]\n",
    "]\n",
    "\n",
    "parent = prim_mst(graph)\n",
    "print_mst(parent, graph)\n"
   ]
  }
 ],
 "metadata": {
  "kernelspec": {
   "display_name": "Python 3",
   "language": "python",
   "name": "python3"
  },
  "language_info": {
   "codemirror_mode": {
    "name": "ipython",
    "version": 3
   },
   "file_extension": ".py",
   "mimetype": "text/x-python",
   "name": "python",
   "nbconvert_exporter": "python",
   "pygments_lexer": "ipython3",
   "version": "3.10.12"
  }
 },
 "nbformat": 4,
 "nbformat_minor": 2
}
