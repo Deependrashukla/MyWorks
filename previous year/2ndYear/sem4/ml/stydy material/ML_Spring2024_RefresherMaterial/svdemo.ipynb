{
 "cells": [
  {
   "cell_type": "markdown",
   "id": "6f2169c2",
   "metadata": {},
   "source": [
    "Read a B&W image and compute its SVD"
   ]
  },
  {
   "cell_type": "code",
   "execution_count": null,
   "id": "bc016087",
   "metadata": {},
   "outputs": [],
   "source": [
    "import numpy as np\n",
    "import matplotlib.pyplot as plt\n",
    "import matplotlib.image as img\n",
    "from matplotlib import cm\n",
    "\n",
    "M = img.imread('boat.jpg')\n",
    "plt.axis('off'); _ = plt.imshow(M, cmap=cm.Greys_r)\n",
    "U, s, Vt = np.linalg.svd(M, full_matrices=False)\n",
    "st = np.copy(s)"
   ]
  },
  {
   "cell_type": "markdown",
   "id": "899dcae8",
   "metadata": {},
   "source": [
    "Plot the sigular values and notice that their values fall sharply"
   ]
  },
  {
   "cell_type": "code",
   "execution_count": null,
   "id": "f99eea43",
   "metadata": {},
   "outputs": [],
   "source": [
    "_ = plt.plot(s, '.-', markersize=10)"
   ]
  },
  {
   "cell_type": "markdown",
   "id": "986cccd3",
   "metadata": {},
   "source": [
    "Reconstruct the image using a subset of the singular values"
   ]
  },
  {
   "cell_type": "code",
   "execution_count": null,
   "id": "02df739a",
   "metadata": {},
   "outputs": [],
   "source": [
    "plt.figure(figsize=(20,8))\n",
    "r = (1, 2, 5, 10, 20, 50)\n",
    "for i in range(len(r)):\n",
    "  st = np.copy(s)\n",
    "  st[r[i]:] = 0\n",
    "  Mh = U @ np.diag(st) @ Vt\n",
    "  plt.subplot(2, 3, i+1); plt.imshow(Mh, cmap=cm.Greys_r); plt.axis('off')"
   ]
  }
 ],
 "metadata": {
  "kernelspec": {
   "display_name": "Python 3 (ipykernel)",
   "language": "python",
   "name": "python3"
  },
  "language_info": {
   "codemirror_mode": {
    "name": "ipython",
    "version": 3
   },
   "file_extension": ".py",
   "mimetype": "text/x-python",
   "name": "python",
   "nbconvert_exporter": "python",
   "pygments_lexer": "ipython3",
   "version": "3.11.6"
  }
 },
 "nbformat": 4,
 "nbformat_minor": 5
}
