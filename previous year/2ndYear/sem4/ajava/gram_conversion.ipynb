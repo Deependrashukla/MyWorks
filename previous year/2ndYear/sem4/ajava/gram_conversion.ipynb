{
 "cells": [
  {
   "cell_type": "code",
   "execution_count": 2,
   "metadata": {},
   "outputs": [
    {
     "name": "stdout",
     "output_type": "stream",
     "text": [
      "[['i', 'am', \"vidya's\"], ['am', \"vidya's\", 'friend,'], [\"vidya's\", 'friend,', 'deep...'], ['friend,', 'deep...', 'shukla']]\n"
     ]
    }
   ],
   "source": [
    "def gram_conversion(text, gram_num):\n",
    "    text = text.split()\n",
    "    if len(text) < gram_num:\n",
    "        print(\"text has not much length to convert this into required gram\")\n",
    "        return\n",
    "    a = []\n",
    "    for i in range(len(text) - gram_num + 1 ):\n",
    "        a.append(text[i:i+gram_num])\n",
    "    print(a)\n",
    "\n",
    "text = \"i am vidya's friend, deep... shukla\"\n",
    "gram_conversion(text,3)"
   ]
  },
  {
   "cell_type": "code",
   "execution_count": null,
   "metadata": {},
   "outputs": [],
   "source": [
    "import nltk \n",
    "nltk.download('punkt')\n",
    "from nltk.util import ngrams\n",
    "\n",
    "NGRAMS = ngrams(sequence=nltk)"
   ]
  }
 ],
 "metadata": {
  "kernelspec": {
   "display_name": "Python 3",
   "language": "python",
   "name": "python3"
  },
  "language_info": {
   "codemirror_mode": {
    "name": "ipython",
    "version": 3
   },
   "file_extension": ".py",
   "mimetype": "text/x-python",
   "name": "python",
   "nbconvert_exporter": "python",
   "pygments_lexer": "ipython3",
   "version": "3.10.12"
  }
 },
 "nbformat": 4,
 "nbformat_minor": 2
}
