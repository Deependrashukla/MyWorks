{
 "cells": [
  {
   "cell_type": "code",
   "execution_count": 14,
   "metadata": {},
   "outputs": [],
   "source": [
    "import requests\n",
    "import sys\n",
    "\n",
    "# URL = sys.argv[1]\n",
    "# URL2 = \"https://en.wikipedia.org/wiki/The_Garden_of_Words\"\n",
    "\n",
    "URL1 = \"https://sitare.org/univ/\"\n",
    "URL2 = \"https://www.geeksforgeeks.org/t-flip-flop/\"\n",
    "response1 = requests.get(URL1).text\n",
    "response2 = requests.get(URL2).text\n"
   ]
  },
  {
   "cell_type": "code",
   "execution_count": 15,
   "metadata": {},
   "outputs": [],
   "source": [
    "#Accessing the body content of website\n",
    "\n",
    "def body(data):\n",
    "    data = data[data.find('<body'):data.find('</body>')]\n",
    "    data = data_cleaning(data)\n",
    "    body_content = \"\"\n",
    "    tag_open = False\n",
    "    for i in data:\n",
    "        \n",
    "        if i == \"<\":\n",
    "            tag_open = True\n",
    "        elif i == \">\":\n",
    "            tag_open = False\n",
    "        elif not tag_open:\n",
    "            body_content = body_content + i\n",
    "    body_content = body_content.split()\n",
    "    body = ''\n",
    "    for i in body_content:\n",
    "        body = body + \" \" + i\n",
    "\n",
    "    return body\n",
    "\n",
    "\n",
    "def data_cleaning(data):\n",
    "    for i in range (data.count(\"<script\")):\n",
    "        data = data[:data.find('<script')] + data[data.find('</script')+9:]\n",
    "\n",
    "    for i in range (data.count(\"<style\")):\n",
    "        data = data[:data.find('<style')] + data[data.find('</style')+8:]\n",
    "    \n",
    "    return (data)\n"
   ]
  },
  {
   "cell_type": "code",
   "execution_count": 16,
   "metadata": {},
   "outputs": [
    {
     "name": "stdout",
     "output_type": "stream",
     "text": [
      "False\n"
     ]
    }
   ],
   "source": [
    "def is_alphanumeric(word):\n",
    "    for char in word :\n",
    "        if (char.isalnum() or char == \"'\" or char == \",\"):\n",
    "            continue\n",
    "        else:\n",
    "            return False\n",
    "    return True\n",
    "\n",
    "print(is_alphanumeric(\"fjls5687a&k\"))"
   ]
  },
  {
   "cell_type": "code",
   "execution_count": 17,
   "metadata": {},
   "outputs": [],
   "source": [
    "def ngram_converter(body, n=5):\n",
    "    dict = {}\n",
    "    body = body.split()\n",
    "    for word in body:\n",
    "        if not is_alphanumeric(word):\n",
    "            body.remove(word)\n",
    "            \n",
    "    for i in range(len(body) - n +1):\n",
    "        ngram_word = \" \".join(body[i : i+n]).lower()\n",
    "        if ngram_word not in dict.keys():\n",
    "            dict[ngram_word] = 1\n",
    "        else:\n",
    "            dict[ngram_word] += 1\n",
    "    return dict\n"
   ]
  },
  {
   "cell_type": "code",
   "execution_count": 18,
   "metadata": {},
   "outputs": [],
   "source": [
    "#Hash Converter\n",
    "def hash_bit_converter(word, p=53):\n",
    "    asci_sum = 0\n",
    "    for i in range(len(word)):\n",
    "        asci_sum += ord(word[i])*p**i\n",
    "    hash_value = asci_sum % (2**64)\n",
    "    return format(hash(hash_value) & (2**64-1), '064b')"
   ]
  },
  {
   "cell_type": "code",
   "execution_count": 19,
   "metadata": {},
   "outputs": [],
   "source": [
    "def freq_adder(bin_num, freq):\n",
    "    num = []\n",
    "    for i in bin_num:\n",
    "        if int(i) == 1:\n",
    "            num.append(freq)\n",
    "        else:\n",
    "            num.append(-freq)\n",
    "    return num"
   ]
  },
  {
   "cell_type": "code",
   "execution_count": 20,
   "metadata": {},
   "outputs": [],
   "source": [
    "def simhash(body):\n",
    "    word_count = ngram_converter(body)\n",
    "    doc_vector = [0 for i in range(64)]\n",
    "    for word in word_count.keys():\n",
    "        hash_bit = hash_bit_converter(word)\n",
    "        hash_vector = freq_adder(hash_bit, word_count[word])\n",
    "        doc_vector = [doc_vector[j] + hash_vector[j] for j in range(64)]\n",
    "                \n",
    "    simhash_value = \"\"\n",
    "    for i in doc_vector:\n",
    "        if i >= 0:\n",
    "            simhash_value += \"1\"\n",
    "        else:\n",
    "            simhash_value += \"0\"\n",
    "    return simhash_value"
   ]
  },
  {
   "cell_type": "code",
   "execution_count": 21,
   "metadata": {},
   "outputs": [
    {
     "name": "stdout",
     "output_type": "stream",
     "text": [
      "32\n"
     ]
    }
   ],
   "source": [
    "body_content1 = body(response1)\n",
    "body_content2 = body(response2)\n",
    "t1 = simhash(body_content1)\n",
    "t2 = simhash(body_content2)\n",
    "count = 0\n",
    "for i in range(64):\n",
    "    if t1[i] == t2[i]:\n",
    "        count += 1 \n",
    "print((count))"
   ]
  },
  {
   "cell_type": "code",
   "execution_count": 22,
   "metadata": {},
   "outputs": [],
   "source": [
    "def main():\n",
    "    URL1 = sys.argv[1]\n",
    "    URL2 = sys.argv[2]\n",
    "    response1 = requests.get(URL1).text\n",
    "    response2 = requests.get(URL2).text\n",
    "    body_content1 = body(response1)\n",
    "    body_content2 = body(response2)\n",
    "    t1 = simhash(body_content1)\n",
    "    t2 = simhash(body_content2)\n",
    "    count = 0\n",
    "    for i in range(64):\n",
    "        if t1[i] == t2[i]:\n",
    "            count += 1 \n",
    "    print((count))\n",
    "\n",
    "# main()"
   ]
  },
  {
   "cell_type": "code",
   "execution_count": null,
   "metadata": {},
   "outputs": [],
   "source": []
  }
 ],
 "metadata": {
  "kernelspec": {
   "display_name": "Python 3",
   "language": "python",
   "name": "python3"
  },
  "language_info": {
   "codemirror_mode": {
    "name": "ipython",
    "version": 3
   },
   "file_extension": ".py",
   "mimetype": "text/x-python",
   "name": "python",
   "nbconvert_exporter": "python",
   "pygments_lexer": "ipython3",
   "version": "3.10.12"
  }
 },
 "nbformat": 4,
 "nbformat_minor": 2
}
