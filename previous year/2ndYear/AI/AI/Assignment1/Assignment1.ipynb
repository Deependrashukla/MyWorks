{
 "cells": [
  {
   "cell_type": "code",
   "execution_count": 53,
   "metadata": {},
   "outputs": [],
   "source": [
    "import pandas as pd\n",
    "import sys"
   ]
  },
  {
   "cell_type": "code",
   "execution_count": 54,
   "metadata": {},
   "outputs": [],
   "source": [
    "adj_lst = {\"Agra\": [[\"Lucknow\", 330], [\"Prayagraj\", 472], [\"Araria\", 1098]], \"Aligarh\": [[\"Rajsamand\", 619], [\"Mahoba\", 444], [\"Jehanabad\", 875]], \"Araria\": [[\"Agra\", 1098], [\"Patna\", 313], [\"Baghpat\", 1278], [\"Nawada\", 320], [\"Mirzapur\", 597]], \"Arrah\": [[\"Arrah\", 0], [\"Sitamarhi\", 171], [\"Chitrakoot\", 445]], \"Baghpat\": [[\"Araria\", 1278], [\"Jodhpur\", 593]], \"Balaghat\": [[\"Baghpat\", 1056], [\"Belagavi\", 1089], [\"Delhi\", 1011], [\"Jaipur\", 973]], \"Belagavi\": [[\"Balaghat\", 1089], [\"Gaya\", 1865], [\"Sikar\", 1576], [\"Lakhimpur\", 1850], [\"Hanamkonda\", 737], [\"Durgapur\", 2000]], \"Bhagalpur\": [[\"Rajsamand\", 1608], [\"Raebareli\", 704], [\"Prayagraj\", 591], [\"Sitamarhi\", 302], [\"Pakur\", 151], [\"Sagar\", 1055], [\"Jaipur\", 1307]], \"Bhopal\": [[\"Bhopal\", 0], [\"Sarangarh\", 748], [\"Daudnagar\", 915], [\"Sitamarhi\", 1085], [\"Mirzapur\", 683], [\"Chitrakoot\", 504], [\"Sri Ganganagar\", 1050]], \"Bikaner\": [[\"Raebareli\", 926], [\"Madhepura\", 1494], [\"Sitamarhi\", 1411]], \"Bundi\": [[\"Madhepura\", 1293], [\"Delhi\", 475], [\"Chitrakoot\", 638], [\"Palamu\", 1084], [\"Sri Ganganagar\", 676]], \"Calicut\": [[\"Kota\", 1894], [\"Delhi\", 2401], [\"Calicut\", 0]], \"Chitrakoot\": [[\"Arrah\", 445], [\"Bhopal\", 504], [\"Bundi\", 638], [\"Mirzapur\", 196]], \"Daudnagar\": [[\"Bhopal\", 915], [\"Rajsamand\", 1259], [\"Sarangarh\", 553], [\"Madhepura\", 288], [\"Mahoba\", 534], [\"Jaipur\", 1038]], \"Delhi\": [[\"Balaghat\", 1011], [\"Bundi\", 475], [\"Calicut\", 2401], [\"Rajsamand\", 621], [\"Patna\", 1005], [\"Sikar\", 273], [\"Delhi\", 0]], \"Durgapur\": [[\"Belagavi\", 2000], [\"Morena\", 1108], [\"Sagar\", 1085], [\"Durgapur\", 0]], \"Faridabad\": [[\"Faridabad\", 0], [\"Mahoba\", 544], [\"Pakur\", 1335], [\"Jaipur\", 272], [\"Sri Ganganagar\", 448]], \"Gaya\": [[\"Belagavi\", 1865], [\"Sarangarh\", 566], [\"Pakur\", 364], [\"Mirzapur\", 290], [\"Ghazipur\", 207], [\"Jaipur\", 1109]], \"Ghazipur\": [[\"Gaya\", 207], [\"Rajsamand\", 1165], [\"Pakur\", 554], [\"Ghazipur\", 0]], \"Hanamkonda\": [[\"Belagavi\", 737], [\"Pakur\", 1579], [\"Sagar\", 832]], \"Jaipur\": [[\"Balaghat\", 973], [\"Bhagalpur\", 1307], [\"Daudnagar\", 1038], [\"Faridabad\", 272], [\"Gaya\", 1109], [\"Lucknow\", 569], [\"Raebareli\", 639]], \"Jehanabad\": [[\"Aligarh\", 875], [\"Lucknow\", 538], [\"Lakhimpur\", 681], [\"Pakur\", 375]], \"Jodhpur\": [[\"Baghpat\", 593], [\"Rajsamand\", 190]], \"Kota\": [[\"Calicut\", 1894], [\"Lucknow\", 634], [\"Rajsamand\", 251], [\"Mahoba\", 484], [\"Sagar\", 448]], \"Lakhimpur\": [[\"Belagavi\", 1850], [\"Jehanabad\", 681]], \"Lucknow\": [[\"Agra\", 330], [\"Jaipur\", 569], [\"Jehanabad\", 538], [\"Kota\", 634], [\"Sikar\", 683], [\"Prayagraj\", 201], [\"Sagar\", 444]], \"Madhepura\": [[\"Bikaner\", 1494], [\"Bundi\", 1293], [\"Daudnagar\", 288], [\"Prayagraj\", 545]], \"Mahoba\": [[\"Aligarh\", 444], [\"Daudnagar\", 534], [\"Faridabad\", 544], [\"Kota\", 484], [\"Sitamarhi\", 702]], \"Mirzapur\": [[\"Araria\", 597], [\"Bhopal\", 683], [\"Chitrakoot\", 196], [\"Gaya\", 290], [\"Morena\", 573], [\"Sagar\", 515]], \"Morena\": [[\"Durgapur\", 1108], [\"Mirzapur\", 573]], \"Nawada\": [[\"Araria\", 320], [\"Raebareli\", 565], [\"Sarangarh\", 625]], \"Pakur\": [[\"Bhagalpur\", 151], [\"Faridabad\", 1335], [\"Gaya\", 364], [\"Ghazipur\", 554], [\"Hanamkonda\", 1579], [\"Jehanabad\", 375], [\"Una\", 1739]], \"Palamu\": [[\"Bundi\", 1084], [\"Patna\", 260]], \"Patna\": [[\"Araria\", 313], [\"Delhi\", 1005], [\"Palamu\", 260], [\"Patna\", 0], [\"Rohtas\", 146]], \"Prayagraj\": [[\"Agra\", 472], [\"Bhagalpur\", 591], [\"Lucknow\", 201], [\"Madhepura\", 545], [\"Rajsamand\", 961], [\"Sarangarh\", 626]], \"Raebareli\": [[\"Bhagalpur\", 704], [\"Bikaner\", 926], [\"Jaipur\", 639], [\"Nawada\", 565]], \"Rajsamand\": [[\"Aligarh\", 619], [\"Bhagalpur\", 1608], [\"Daudnagar\", 1259], [\"Delhi\", 621], [\"Ghazipur\", 1165], [\"Jodhpur\", 190], [\"Kota\", 251], [\"Prayagraj\", 961], [\"Sitapur\", 899], [\"Rohtas\", 1224]], \"Rohtas\": [[\"Patna\", 146], [\"Rajsamand\", 1224], [\"Rohtas\", 0]], \"Sagar\": [[\"Bhagalpur\", 1055], [\"Durgapur\", 1085], [\"Hanamkonda\", 832], [\"Kota\", 448], [\"Lucknow\", 444], [\"Mirzapur\", 515], [\"Sagar\", 0]], \"Sarangarh\": [[\"Bhopal\", 748], [\"Daudnagar\", 553], [\"Gaya\", 566], [\"Nawada\", 625], [\"Prayagraj\", 626]], \"Sikar\": [[\"Belagavi\", 1576], [\"Delhi\", 273], [\"Lucknow\", 683], [\"Sitapur\", 676]], \"Sitamarhi\": [[\"Arrah\", 171], [\"Bhagalpur\", 302], [\"Bhopal\", 1085], [\"Bikaner\", 1411], [\"Mahoba\", 702]], \"Sitapur\": [[\"Rajsamand\", 899], [\"Sikar\", 676], [\"Sitapur\", 0]], \"Sri Ganganagar\": [[\"Bhopal\", 1050], [\"Bundi\", 676], [\"Faridabad\", 448]], \"Una\": [[\"Pakur\", 1739]]}"
   ]
  },
  {
   "cell_type": "code",
   "execution_count": 55,
   "metadata": {},
   "outputs": [
    {
     "data": {
      "text/html": [
       "<div>\n",
       "<style scoped>\n",
       "    .dataframe tbody tr th:only-of-type {\n",
       "        vertical-align: middle;\n",
       "    }\n",
       "\n",
       "    .dataframe tbody tr th {\n",
       "        vertical-align: top;\n",
       "    }\n",
       "\n",
       "    .dataframe thead th {\n",
       "        text-align: right;\n",
       "    }\n",
       "</style>\n",
       "<table border=\"1\" class=\"dataframe\">\n",
       "  <thead>\n",
       "    <tr style=\"text-align: right;\">\n",
       "      <th></th>\n",
       "      <th>node1</th>\n",
       "      <th>node2</th>\n",
       "      <th>route_distance</th>\n",
       "      <th>Heuristic distance</th>\n",
       "    </tr>\n",
       "  </thead>\n",
       "  <tbody>\n",
       "    <tr>\n",
       "      <th>0</th>\n",
       "      <td>Agra</td>\n",
       "      <td>Lucknow</td>\n",
       "      <td>330</td>\n",
       "      <td>294</td>\n",
       "    </tr>\n",
       "    <tr>\n",
       "      <th>1</th>\n",
       "      <td>Agra</td>\n",
       "      <td>Rajsamand</td>\n",
       "      <td>574</td>\n",
       "      <td>474</td>\n",
       "    </tr>\n",
       "    <tr>\n",
       "      <th>2</th>\n",
       "      <td>Agra</td>\n",
       "      <td>Raebareli</td>\n",
       "      <td>401</td>\n",
       "      <td>339</td>\n",
       "    </tr>\n",
       "    <tr>\n",
       "      <th>3</th>\n",
       "      <td>Agra</td>\n",
       "      <td>Patna</td>\n",
       "      <td>839</td>\n",
       "      <td>732</td>\n",
       "    </tr>\n",
       "    <tr>\n",
       "      <th>4</th>\n",
       "      <td>Agra</td>\n",
       "      <td>Gaya</td>\n",
       "      <td>871</td>\n",
       "      <td>748</td>\n",
       "    </tr>\n",
       "    <tr>\n",
       "      <th>...</th>\n",
       "      <td>...</td>\n",
       "      <td>...</td>\n",
       "      <td>...</td>\n",
       "      <td>...</td>\n",
       "    </tr>\n",
       "    <tr>\n",
       "      <th>2020</th>\n",
       "      <td>Una</td>\n",
       "      <td>Sikar</td>\n",
       "      <td>575</td>\n",
       "      <td>441</td>\n",
       "    </tr>\n",
       "    <tr>\n",
       "      <th>2021</th>\n",
       "      <td>Una</td>\n",
       "      <td>Sitamarhi</td>\n",
       "      <td>1407</td>\n",
       "      <td>1048</td>\n",
       "    </tr>\n",
       "    <tr>\n",
       "      <th>2022</th>\n",
       "      <td>Una</td>\n",
       "      <td>Sitapur</td>\n",
       "      <td>734</td>\n",
       "      <td>607</td>\n",
       "    </tr>\n",
       "    <tr>\n",
       "      <th>2023</th>\n",
       "      <td>Una</td>\n",
       "      <td>Sri Ganganagar</td>\n",
       "      <td>365</td>\n",
       "      <td>286</td>\n",
       "    </tr>\n",
       "    <tr>\n",
       "      <th>2024</th>\n",
       "      <td>Una</td>\n",
       "      <td>Una</td>\n",
       "      <td>0</td>\n",
       "      <td>0</td>\n",
       "    </tr>\n",
       "  </tbody>\n",
       "</table>\n",
       "<p>2025 rows × 4 columns</p>\n",
       "</div>"
      ],
      "text/plain": [
       "     node1           node2  route_distance  Heuristic distance\n",
       "0     Agra         Lucknow             330                 294\n",
       "1     Agra       Rajsamand             574                 474\n",
       "2     Agra       Raebareli             401                 339\n",
       "3     Agra           Patna             839                 732\n",
       "4     Agra            Gaya             871                 748\n",
       "...    ...             ...             ...                 ...\n",
       "2020   Una           Sikar             575                 441\n",
       "2021   Una       Sitamarhi            1407                1048\n",
       "2022   Una         Sitapur             734                 607\n",
       "2023   Una  Sri Ganganagar             365                 286\n",
       "2024   Una             Una               0                   0\n",
       "\n",
       "[2025 rows x 4 columns]"
      ]
     },
     "execution_count": 55,
     "metadata": {},
     "output_type": "execute_result"
    }
   ],
   "source": [
    "\n",
    "df = pd.read_csv('complete_graph.csv')\n",
    "df"
   ]
  },
  {
   "cell_type": "markdown",
   "metadata": {},
   "source": [
    "## Finding the path between two nodes"
   ]
  },
  {
   "cell_type": "code",
   "execution_count": 56,
   "metadata": {},
   "outputs": [],
   "source": [
    "# Depth-First Search (DFS) function to find a path between two nodes.\n",
    "def DFS_PATH(node, node2, path=[]):\n",
    "    global visited_lst, path_lst\n",
    "\n",
    "    # If the destination node (node2) has already been visited, return.\n",
    "    if node2 in visited_lst:\n",
    "        return\n",
    "\n",
    "    # Check if the current node has not been visited yet.\n",
    "    if node not in visited_lst:\n",
    "        # Print the current node as it's being visited.\n",
    "        # print(\"Visiting node:\", node)\n",
    "\n",
    "        # Mark the current node as visited and add it to the path.\n",
    "        visited_lst.append(node)\n",
    "        path.append(node)\n",
    "\n",
    "        # If we have reached the destination node, add the current path to the list of found paths.\n",
    "        if node == node2:\n",
    "            path_lst.append(path.copy())\n",
    "            return\n",
    "\n",
    "        # Recursively explore the connected nodes.\n",
    "        for neighbor, j in adj_lst[node]:\n",
    "            DFS_PATH(neighbor, node2, path)\n",
    "\n",
    "        # Backtrack by removing the last node from the path.\n",
    "        path.pop()"
   ]
  },
  {
   "cell_type": "code",
   "execution_count": 91,
   "metadata": {},
   "outputs": [
    {
     "name": "stdout",
     "output_type": "stream",
     "text": [
      "184\n",
      "Paths from Patna to Rajsamand: Patna -> Calicut -> Hanamkonda -> Jodhpur -> Lucknow -> Patna -> Araria -> Agra -> Lucknow -> Jaipur -> Balaghat -> Baghpat -> Jodhpur -> Rajsamand\n"
     ]
    }
   ],
   "source": [
    "start_node = 'Patna'\n",
    "target_node = 'Rajsamand'\n",
    "\n",
    "# Initialize an accumulator to keep track of visited nodes.\n",
    "visited_lst = []\n",
    "\n",
    "# Initialize a list to store found paths.\n",
    "path_lst = []\n",
    "\n",
    "# Start DFS_PATH from start_node to target_node and find all paths.\n",
    "DFS_PATH(start_node, target_node)\n",
    "\n",
    "\n",
    "print(sys.getsizeof(visited_lst))\n",
    "# Print the found paths.\n",
    "print(f\"Paths from {start_node} to {target_node}:\", \" -> \".join(path_lst[0]))\n"
   ]
  },
  {
   "cell_type": "code",
   "execution_count": 92,
   "metadata": {},
   "outputs": [
    {
     "name": "stdout",
     "output_type": "stream",
     "text": [
      "376\n",
      "Paths from Calicut to Arrah: Patna -> Calicut -> Hanamkonda -> Jodhpur -> Lucknow -> Patna -> Calicut -> Kota -> Lucknow -> Agra -> Prayagraj -> Bhagalpur -> Rajsamand -> Aligarh -> Mahoba -> Daudnagar -> Bhopal -> Sarangarh -> Gaya -> Belagavi -> Balaghat -> Baghpat -> Araria -> Patna -> Delhi -> Bundi -> Madhepura -> Bikaner -> Raebareli -> Jaipur -> Faridabad -> Pakur -> Hanamkonda -> Sagar -> Durgapur -> Morena -> Mirzapur -> Chitrakoot -> Arrah\n"
     ]
    }
   ],
   "source": [
    "start_node = 'Calicut'\n",
    "target_node = 'Arrah'\n",
    "\n",
    "# Initialize an accumulator to keep track of visited nodes.\n",
    "visited_lst = []\n",
    "\n",
    "# Initialize a list to store found paths.\n",
    "path_lst = []\n",
    "\n",
    "# Start DFS_PATH from start_node to target_node and find all paths.\n",
    "DFS_PATH(start_node, target_node)\n",
    "\n",
    "print(sys.getsizeof(visited_lst))\n",
    "\n",
    "# Print the found paths.\n",
    "print(f\"Paths from {start_node} to {target_node}:\", \" -> \".join(path_lst[0]))"
   ]
  },
  {
   "cell_type": "code",
   "execution_count": 93,
   "metadata": {},
   "outputs": [
    {
     "name": "stdout",
     "output_type": "stream",
     "text": [
      "376\n",
      "Paths from Hanamkonda to Patna: Patna -> Calicut -> Hanamkonda -> Jodhpur -> Lucknow -> Patna -> Calicut -> Hanamkonda -> Belagavi -> Balaghat -> Baghpat -> Araria -> Agra -> Lucknow -> Jaipur -> Bhagalpur -> Rajsamand -> Aligarh -> Mahoba -> Daudnagar -> Bhopal -> Sarangarh -> Gaya -> Pakur -> Faridabad -> Sri Ganganagar -> Bundi -> Madhepura -> Bikaner -> Sitamarhi -> Arrah -> Chitrakoot -> Mirzapur -> Morena -> Durgapur -> Sagar -> Kota -> Calicut -> Delhi -> Patna\n"
     ]
    }
   ],
   "source": [
    "start_node = 'Hanamkonda'\n",
    "target_node = 'Patna'\n",
    "\n",
    "# Initialize an accumulator to keep track of visited nodes.\n",
    "visited_lst = []\n",
    "\n",
    "# Initialize a list to store found paths.\n",
    "path_lst = []\n",
    "\n",
    "# Start DFS_PATH from start_node to target_node and find all paths.\n",
    "DFS_PATH(start_node, target_node)\n",
    "\n",
    "\n",
    "print(sys.getsizeof(visited_lst))\n",
    "\n",
    "# Print the found paths.\n",
    "print(f\"Paths from {start_node} to {target_node}:\", \" -> \".join(path_lst[0]))"
   ]
  },
  {
   "cell_type": "code",
   "execution_count": 94,
   "metadata": {},
   "outputs": [
    {
     "name": "stdout",
     "output_type": "stream",
     "text": [
      "120\n",
      "Paths from Jodhpur to Belagavi: Patna -> Calicut -> Hanamkonda -> Jodhpur -> Lucknow -> Patna -> Calicut -> Hanamkonda -> Jodhpur -> Baghpat -> Araria -> Agra -> Lucknow -> Jaipur -> Balaghat -> Belagavi\n"
     ]
    }
   ],
   "source": [
    "start_node = 'Jodhpur'\n",
    "target_node = 'Belagavi'\n",
    "\n",
    "# Initialize an accumulator to keep track of visited nodes.\n",
    "visited_lst = []\n",
    "\n",
    "# Initialize a list to store found paths.\n",
    "path_lst = []\n",
    "\n",
    "# Start DFS_PATH from start_node to target_node and find all paths.\n",
    "DFS_PATH(start_node, target_node)\n",
    "\n",
    "\n",
    "print(sys.getsizeof(visited_lst))\n",
    "\n",
    "# Print the found paths.\n",
    "print(f\"Paths from {start_node} to {target_node}:\", \" -> \".join(path_lst[0]))"
   ]
  },
  {
   "cell_type": "code",
   "execution_count": 95,
   "metadata": {},
   "outputs": [
    {
     "name": "stdout",
     "output_type": "stream",
     "text": [
      "472\n",
      "Paths from Lucknow to Jodhpur: Patna -> Calicut -> Hanamkonda -> Jodhpur -> Lucknow -> Patna -> Calicut -> Hanamkonda -> Jodhpur -> Lucknow -> Agra -> Prayagraj -> Bhagalpur -> Rajsamand -> Aligarh -> Mahoba -> Daudnagar -> Bhopal -> Sarangarh -> Gaya -> Belagavi -> Balaghat -> Baghpat -> Jodhpur\n"
     ]
    }
   ],
   "source": [
    "start_node = 'Lucknow'\n",
    "target_node = 'Jodhpur'\n",
    "\n",
    "# Initialize an accumulator to keep track of visited nodes.\n",
    "visited_lst = []\n",
    "\n",
    "# Initialize a list to store found paths.\n",
    "path_lst = []\n",
    "\n",
    "# Start DFS_PATH from start_node to target_node and find all paths.\n",
    "DFS_PATH(start_node, target_node)\n",
    "\n",
    "print(sys.getsizeof(visited_lst))\n",
    "\n",
    "# Print the found paths.\n",
    "print(f\"Paths from {start_node} to {target_node}:\", \" -> \".join(path_lst[0]))"
   ]
  },
  {
   "cell_type": "markdown",
   "metadata": {},
   "source": [
    "# BFS"
   ]
  },
  {
   "cell_type": "code",
   "execution_count": 96,
   "metadata": {},
   "outputs": [],
   "source": [
    "def BFS_SEARCH(node, node2, parent_dict):\n",
    "    global visited_lst, queue_lst\n",
    "    # print(parent_dict)\n",
    "    if node2 in visited_lst:\n",
    "        return construct_path(parent_dict, node, node2)\n",
    "    if node not in visited_lst:\n",
    "        visited_lst.append(node)\n",
    "        queue_lst.append(node)\n",
    "        for neighbor, _ in adj_lst[node]:\n",
    "            if neighbor not in visited_lst:\n",
    "                parent_dict[neighbor] = node\n",
    "                queue_lst.append(neighbor)\n",
    "                \n",
    "    if queue_lst:\n",
    "        next_node = queue_lst.pop(0)\n",
    "        return BFS_SEARCH(next_node, node2, parent_dict)\n",
    "    return []\n",
    "\n",
    "def construct_path(parent_dict, start, end):\n",
    "    path = [end]\n",
    "    while end != start:\n",
    "        end = parent_dict[end]\n",
    "        if end is None:\n",
    "            break\n",
    "        path.append(end)\n",
    "    return path[::-1]"
   ]
  },
  {
   "cell_type": "code",
   "execution_count": 97,
   "metadata": {},
   "outputs": [
    {
     "name": "stdout",
     "output_type": "stream",
     "text": [
      "184\n",
      "Paths from Patna to Rajsamand: Patna -> Rohtas -> Rajsamand\n"
     ]
    }
   ],
   "source": [
    "start_node = 'Patna'\n",
    "end_node = 'Rajsamand'\n",
    "\n",
    "visited_lst = []\n",
    "queue_lst = []\n",
    "parent_dict = {start_node: None}\n",
    "path = BFS_SEARCH(start_node, end_node, parent_dict)\n",
    "\n",
    "print(sys.getsizeof(visited_lst))\n",
    "\n",
    "print(f\"Paths from {start_node} to {end_node}:\", \" -> \".join(path))"
   ]
  },
  {
   "cell_type": "code",
   "execution_count": 98,
   "metadata": {},
   "outputs": [
    {
     "name": "stdout",
     "output_type": "stream",
     "text": [
      "472\n",
      "Paths from Calicut to Arrah: Calicut -> Kota -> Lucknow -> Sagar -> Mirzapur -> Chitrakoot -> Arrah\n"
     ]
    }
   ],
   "source": [
    "start_node = 'Calicut'\n",
    "end_node = 'Arrah'\n",
    "\n",
    "visited_lst = []\n",
    "queue_lst = []\n",
    "parent_dict = {start_node: None}\n",
    "path = BFS_SEARCH(start_node, end_node, parent_dict)\n",
    "\n",
    "print(sys.getsizeof(visited_lst))\n",
    "\n",
    "print(f\"Paths from {start_node} to {end_node}:\", \" -> \".join(path))"
   ]
  },
  {
   "cell_type": "code",
   "execution_count": 99,
   "metadata": {},
   "outputs": [
    {
     "name": "stdout",
     "output_type": "stream",
     "text": [
      "376\n",
      "Paths from Hanamkonda to Patna: Hanamkonda -> Belagavi -> Sikar -> Sitapur -> Rajsamand -> Prayagraj -> Agra -> Araria -> Patna\n"
     ]
    }
   ],
   "source": [
    "start_node = 'Hanamkonda'\n",
    "end_node = 'Patna'\n",
    "\n",
    "visited_lst = []\n",
    "queue_lst = []\n",
    "parent_dict = {start_node: None}\n",
    "path = BFS_SEARCH(start_node, end_node, parent_dict)\n",
    "\n",
    "print(sys.getsizeof(visited_lst))\n",
    "\n",
    "print(f\"Paths from {start_node} to {end_node}:\", \" -> \".join(path))"
   ]
  },
  {
   "cell_type": "code",
   "execution_count": 100,
   "metadata": {},
   "outputs": [
    {
     "name": "stdout",
     "output_type": "stream",
     "text": [
      "472\n",
      "Paths from Jodhpur to Belagavi: Jodhpur -> Baghpat -> Araria -> Mirzapur -> Morena -> Durgapur -> Belagavi\n"
     ]
    }
   ],
   "source": [
    "start_node = 'Jodhpur'\n",
    "end_node = 'Belagavi'\n",
    "\n",
    "visited_lst = []\n",
    "queue_lst = []\n",
    "parent_dict = {start_node: None}\n",
    "path = BFS_SEARCH(start_node, end_node, parent_dict)\n",
    "\n",
    "print(sys.getsizeof(visited_lst))\n",
    "\n",
    "print(f\"Paths from {start_node} to {end_node}:\", \" -> \".join(path))"
   ]
  },
  {
   "cell_type": "code",
   "execution_count": 101,
   "metadata": {},
   "outputs": [
    {
     "name": "stdout",
     "output_type": "stream",
     "text": [
      "88\n",
      "Paths from Lucknow to Jaipur: Lucknow -> Jaipur\n"
     ]
    }
   ],
   "source": [
    "start_node = 'Lucknow'\n",
    "end_node = 'Jaipur'\n",
    "\n",
    "visited_lst = []\n",
    "queue_lst = []\n",
    "parent_dict = {start_node: None}\n",
    "path = BFS_SEARCH(start_node, end_node, parent_dict)\n",
    "\n",
    "print(sys.getsizeof(visited_lst))\n",
    "\n",
    "print(f\"Paths from {start_node} to {end_node}:\", \" -> \".join(path))"
   ]
  },
  {
   "cell_type": "markdown",
   "metadata": {},
   "source": [
    "# GBFS"
   ]
  },
  {
   "cell_type": "code",
   "execution_count": 102,
   "metadata": {},
   "outputs": [],
   "source": [
    "\n",
    "def heulistic_dis_acc_node(node):\n",
    "    heulistic_dis = {}\n",
    "\n",
    "    for node1, node2, weight in zip(df['node1'], df['node2'], df['Heuristic distance']):\n",
    "        if node == node1:\n",
    "\n",
    "            heulistic_dis[node2] = weight\n",
    "\n",
    "    return heulistic_dis\n",
    "heulistic_dis = heulistic_dis_acc_node('Patna')"
   ]
  },
  {
   "cell_type": "code",
   "execution_count": 103,
   "metadata": {},
   "outputs": [
    {
     "name": "stdout",
     "output_type": "stream",
     "text": [
      "88\n",
      "Patna -> Rohtas -> Rajsamand\n",
      "--------------\n",
      "184\n",
      "Calicut -> Delhi -> Patna -> Rohtas -> Rajsamand -> Daudnagar -> Madhepura -> Prayagraj -> Bhagalpur -> Sitamarhi -> Arrah\n",
      "--------------\n",
      "184\n",
      "Hanamkonda -> Pakur -> Jehanabad -> Lucknow -> Prayagraj -> Madhepura -> Daudnagar -> Sarangarh -> Nawada -> Araria -> Patna\n",
      "--------------\n",
      "Graph Stuck at dead end.\n",
      "248\n",
      "Jodhpur -> Baghpat -> Araria -> Patna -> Rohtas -> Rajsamand -> Daudnagar -> Madhepura -> Prayagraj -> Bhagalpur -> Sitamarhi -> Arrah -> Chitrakoot -> Mirzapur -> Gaya -> Ghazipur -> Pakur -> Jehanabad -> Lucknow -> Sagar -> Durgapur -> Morena\n",
      "--------------\n",
      "Graph Stuck at dead end.\n",
      "248\n",
      "Lucknow -> Jehanabad -> Pakur -> Gaya -> Ghazipur -> Rajsamand -> Daudnagar -> Madhepura -> Prayagraj -> Bhagalpur -> Sitamarhi -> Arrah -> Chitrakoot -> Mirzapur -> Araria -> Patna -> Rohtas\n"
     ]
    }
   ],
   "source": [
    "path_lst = []\n",
    "\n",
    "def GBFS(start_node, target_node):\n",
    "    global path_lst\n",
    "\n",
    "    if start_node not in path_lst:\n",
    "        path_lst.append(start_node)\n",
    "        if target_node in path_lst: \n",
    "            return path_lst\n",
    "\n",
    "        num = float('inf')\n",
    "        next_node = ''\n",
    "\n",
    "        for node, _ in adj_lst[start_node]:\n",
    "\n",
    "            if node not in path_lst:\n",
    "                if heulistic_dis[node] < num:\n",
    "                    num = heulistic_dis[node]\n",
    "                    next_node = node\n",
    "        # print(next_node)\n",
    "        if next_node == '':\n",
    "            print('Graph Stuck at dead end.')\n",
    "            return []\n",
    "        \n",
    "\n",
    "        GBFS(next_node, target_node)   \n",
    "\n",
    "path_lst = []\n",
    "GBFS('Patna', 'Rajsamand')\n",
    "print(sys.getsizeof(path_lst))\n",
    "print(\" -> \".join(path_lst))\n",
    "print('--------------')\n",
    "\n",
    "\n",
    "path_lst = []\n",
    "GBFS('Calicut', 'Arrah')\n",
    "print(sys.getsizeof(path_lst))\n",
    "print(\" -> \".join(path_lst))\n",
    "print('--------------')\n",
    "\n",
    "\n",
    "path_lst = []\n",
    "GBFS('Hanamkonda', 'Patna')\n",
    "print(sys.getsizeof(path_lst))\n",
    "print(\" -> \".join(path_lst))\n",
    "print('--------------')\n",
    "\n",
    "\n",
    "path_lst = []\n",
    "GBFS('Jodhpur', 'Belagavi')\n",
    "print(sys.getsizeof(path_lst))\n",
    "print(\" -> \".join(path_lst))\n",
    "print('--------------')\n",
    "\n",
    "\n",
    "path_lst = []\n",
    "GBFS('Lucknow', 'Jodhpur')\n",
    "print(sys.getsizeof(path_lst))\n",
    "print(\" -> \".join(path_lst))\n",
    "\n",
    "# print(\" -> \".join(path_lst))"
   ]
  },
  {
   "cell_type": "markdown",
   "metadata": {},
   "source": [
    "# A Star"
   ]
  },
  {
   "cell_type": "code",
   "execution_count": 89,
   "metadata": {},
   "outputs": [],
   "source": [
    "\n",
    "def heulistic_dis_acc_node(node):\n",
    "    heulistic_dis = {}\n",
    "\n",
    "    for node1, node2, weight in zip(df['node1'], df['node2'], df['Heuristic distance']):\n",
    "        if node == node1:\n",
    "\n",
    "            heulistic_dis[node2] = weight\n",
    "\n",
    "    return heulistic_dis\n",
    "heulistic_dis = heulistic_dis_acc_node('Jodhpur')"
   ]
  },
  {
   "cell_type": "code",
   "execution_count": 71,
   "metadata": {},
   "outputs": [],
   "source": [
    "def Astar(start_node, target_node, adj_lst, heuristics, visited=None, came_from=None, g_score=None, opened=None):\n",
    "    # Initialize default values if not provided\n",
    "    if visited is None:\n",
    "        visited = set()\n",
    "    if came_from is None:\n",
    "        came_from = {}\n",
    "    if g_score is None:\n",
    "        g_score = {node: float('inf') for node in adj_lst}\n",
    "        g_score[start_node] = 0\n",
    "    if opened is None:\n",
    "        opened = [(heuristics[start_node], start_node)]  # Initialize with heuristic value\n",
    "\n",
    "    min_f_score = float('inf')\n",
    "    min_index = None\n",
    "\n",
    "    # Find the node with the minimum f-score\n",
    "    for i, (f_score, node) in enumerate(opened):\n",
    "        if f_score < min_f_score:\n",
    "            min_f_score = f_score\n",
    "            min_index = i\n",
    "\n",
    "    # Remove the node with the minimum f-score\n",
    "    _, current_node = opened.pop(min_index)\n",
    "    visited.add(current_node)\n",
    "\n",
    "    # If we reached the target node, reconstruct and return the path\n",
    "    if current_node == target_node:\n",
    "        path = [current_node]\n",
    "        while current_node in came_from:\n",
    "            current_node = came_from[current_node]\n",
    "            path.insert(0, current_node)\n",
    "        return path\n",
    "\n",
    "    # Explore neighbors\n",
    "    for neighbor, cost in adj_lst[current_node]:\n",
    "        # if neighbor in visited:\n",
    "        #     continue\n",
    "\n",
    "        temp_g_score = g_score[current_node] + cost\n",
    "\n",
    "        if temp_g_score < g_score[neighbor]:\n",
    "            came_from[neighbor] = current_node\n",
    "            g_score[neighbor] = temp_g_score\n",
    "            f_score = g_score[neighbor] + heuristics[neighbor]\n",
    "\n",
    "            # Check if the neighbor is already in the opened list\n",
    "            neighbor_in_opened = False\n",
    "            for _, node in opened:\n",
    "                if node == neighbor:\n",
    "                    neighbor_in_opened = True\n",
    "                    break\n",
    "\n",
    "            if not neighbor_in_opened:\n",
    "                opened.append((f_score, neighbor))\n",
    "\n",
    "    # Recursively continue the search\n",
    "    return Astar(start_node, target_node, adj_lst, heuristics, visited, came_from, g_score, opened)\n",
    "\n"
   ]
  },
  {
   "cell_type": "code",
   "execution_count": 72,
   "metadata": {},
   "outputs": [
    {
     "name": "stdout",
     "output_type": "stream",
     "text": [
      "120\n",
      "Shortest Path: Patna -> Rohtas -> Rajsamand\n"
     ]
    }
   ],
   "source": [
    "path = Astar('Patna', 'Rajsamand', adj_lst, heulistic_dis)\n",
    "print(sys.getsizeof(path))\n",
    "if path:\n",
    "    print(\"Shortest Path:\", ' -> '.join(path))\n",
    "else:\n",
    "    print(\"No path found.\")"
   ]
  },
  {
   "cell_type": "code",
   "execution_count": 82,
   "metadata": {},
   "outputs": [
    {
     "name": "stdout",
     "output_type": "stream",
     "text": [
      "120\n",
      "Shortest Path: Calicut -> Kota -> Mahoba -> Sitamarhi -> Arrah\n"
     ]
    }
   ],
   "source": [
    "path = Astar('Calicut', 'Arrah', adj_lst, heulistic_dis)\n",
    "print(sys.getsizeof(path))\n",
    "if path:\n",
    "    print(\"Shortest Path:\", ' -> '.join(path))\n",
    "else:\n",
    "    print(\"No path found.\")"
   ]
  },
  {
   "cell_type": "code",
   "execution_count": 83,
   "metadata": {},
   "outputs": [
    {
     "name": "stdout",
     "output_type": "stream",
     "text": [
      "120\n",
      "Shortest Path: Hanamkonda -> Sagar -> Mirzapur -> Araria -> Patna\n"
     ]
    }
   ],
   "source": [
    "path = Astar('Hanamkonda', 'Patna', adj_lst, heulistic_dis)\n",
    "print(sys.getsizeof(path))\n",
    "if path:\n",
    "    print(\"Shortest Path:\", ' -> '.join(path))\n",
    "else:\n",
    "    print(\"No path found.\")"
   ]
  },
  {
   "cell_type": "code",
   "execution_count": 86,
   "metadata": {},
   "outputs": [
    {
     "name": "stdout",
     "output_type": "stream",
     "text": [
      "120\n",
      "Shortest Path: Jodhpur -> Rajsamand -> Kota -> Sagar -> Hanamkonda -> Belagavi\n"
     ]
    }
   ],
   "source": [
    "path = Astar('Jodhpur', 'Belagavi', adj_lst, heulistic_dis)\n",
    "print(sys.getsizeof(path))\n",
    "if path:\n",
    "    print(\"Shortest Path:\", ' -> '.join(path))\n",
    "else:\n",
    "    print(\"No path found.\")"
   ]
  },
  {
   "cell_type": "code",
   "execution_count": 90,
   "metadata": {},
   "outputs": [
    {
     "name": "stdout",
     "output_type": "stream",
     "text": [
      "120\n",
      "Shortest Path: Lucknow -> Kota -> Rajsamand -> Jodhpur\n"
     ]
    }
   ],
   "source": [
    "path = Astar('Lucknow', 'Jodhpur', adj_lst, heulistic_dis)\n",
    "print(sys.getsizeof(path))\n",
    "if path:\n",
    "    print(\"Shortest Path:\", ' -> '.join(path))\n",
    "else:\n",
    "    print(\"No path found.\")"
   ]
  }
 ],
 "metadata": {
  "kernelspec": {
   "display_name": "Python 3 (ipykernel)",
   "language": "python",
   "name": "python3"
  },
  "language_info": {
   "codemirror_mode": {
    "name": "ipython",
    "version": 3
   },
   "file_extension": ".py",
   "mimetype": "text/x-python",
   "name": "python",
   "nbconvert_exporter": "python",
   "pygments_lexer": "ipython3",
   "version": "3.11.3"
  }
 },
 "nbformat": 4,
 "nbformat_minor": 2
}
