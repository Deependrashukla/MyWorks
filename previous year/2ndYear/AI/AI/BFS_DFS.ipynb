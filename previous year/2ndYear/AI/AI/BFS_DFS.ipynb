{
 "cells": [
  {
   "cell_type": "code",
   "execution_count": 1,
   "metadata": {},
   "outputs": [],
   "source": [
    "adj_lst = {'Frankfurt' : ['Mannhein', 'Wurtzburg', 'Kassel'], 'Mannhein' : ['Karlsruhe'], 'Wurtzburg' : ['Numberg', 'Erfurt'], 'Kassel' : ['Manchen'], 'Numberg' : ['Stuttgart'], 'Karlsruhe' : ['Ausburg'], 'Ausburg' : ['Karlsruhe'], }"
   ]
  },
  {
   "cell_type": "code",
   "execution_count": 2,
   "metadata": {},
   "outputs": [],
   "source": [
    "adj_lst = {\"Frankfurt\": [\"Mannhein\", \"Wurzburg\", \"Kassel\"], \"Mannhein\": [\"Frankfurt\", \"Karlsruhe\"], \"Wurzburg\": [\"Frankfurt\", \"Numberg\", \"Erfurt\"], \"Kassel\": [\"Frankfurt\", \"Munchen\"], \"Karlsruhe\": [\"Mannhein\", \"Ausburg\"], \"Numberg\": [\"Wurzburg\", \"Stuttgart\"], \"Erfurt\": [\"Wurzburg\"], \"Munchen\": [\"Kassel\"], \"Ausburg\": [\"Karlsruhe\"], \"Stuttgart\": [\"Numberg\"]}\n"
   ]
  },
  {
   "cell_type": "code",
   "execution_count": 3,
   "metadata": {},
   "outputs": [
    {
     "data": {
      "text/plain": [
       "10"
      ]
     },
     "execution_count": 3,
     "metadata": {},
     "output_type": "execute_result"
    }
   ],
   "source": [
    "len(adj_lst) "
   ]
  },
  {
   "cell_type": "code",
   "execution_count": null,
   "metadata": {},
   "outputs": [],
   "source": []
  },
  {
   "cell_type": "code",
   "execution_count": 4,
   "metadata": {},
   "outputs": [
    {
     "name": "stdout",
     "output_type": "stream",
     "text": [
      "Wurzburg\n",
      "Frankfurt\n",
      "Mannhein\n",
      "Karlsruhe\n",
      "Ausburg\n",
      "Kassel\n",
      "Munchen\n",
      "Numberg\n",
      "Stuttgart\n",
      "Erfurt\n"
     ]
    }
   ],
   "source": [
    "visited_lst = []\n",
    "def DFS(node):\n",
    "    global visited_lst, adj_lst\n",
    "    if node not in visited_lst:\n",
    "        print(node)\n",
    "        visited_lst.append(node)\n",
    "\n",
    "        for i in adj_lst[node]:\n",
    "            DFS(i)\n",
    "\n",
    "DFS('Wurzburg')"
   ]
  },
  {
   "cell_type": "code",
   "execution_count": 5,
   "metadata": {},
   "outputs": [
    {
     "name": "stdout",
     "output_type": "stream",
     "text": [
      "Frankfurt\n",
      "Mannhein\n",
      "Karlsruhe\n",
      "Ausburg\n",
      "Wurzburg\n",
      "Numberg\n",
      "Stuttgart\n",
      "Erfurt\n"
     ]
    }
   ],
   "source": [
    "visited_lst = []\n",
    "def DFS_SEARCH(node, node2):\n",
    "    global visited_lst, adj_lst\n",
    "\n",
    "    \n",
    "    if node2 in visited_lst:\n",
    "        return\n",
    "    \n",
    "    if node not in visited_lst:\n",
    "        \n",
    "        visited_lst.append(node)\n",
    "        print(node)\n",
    "        \n",
    "        for i in adj_lst[node]:\n",
    "            # print(i)\n",
    "            # if not i == node2:\n",
    "            DFS_SEARCH(i, node2)\n",
    "\n",
    "            # if node2 in visited_lst:\n",
    "        # print(node2)\n",
    "                # return\n",
    "                # visited_lst.append(node2)\n",
    "\n",
    "            # else:\n",
    "                \n",
    "\n",
    "            # else:\n",
    "                \n",
    "            #     if node2 in visited_lst:\n",
    "            #         print(node2)\n",
    "            #         visited_lst.append(node2)\n",
    "            \n",
    "\n",
    "\n",
    "\n",
    "                \n",
    "\n",
    "DFS_SEARCH('Frankfurt', 'Erfurt')"
   ]
  },
  {
   "cell_type": "code",
   "execution_count": 6,
   "metadata": {},
   "outputs": [
    {
     "data": {
      "text/plain": [
       "['Frankfurt',\n",
       " 'Mannhein',\n",
       " 'Karlsruhe',\n",
       " 'Ausburg',\n",
       " 'Wurzburg',\n",
       " 'Numberg',\n",
       " 'Stuttgart',\n",
       " 'Erfurt']"
      ]
     },
     "execution_count": 6,
     "metadata": {},
     "output_type": "execute_result"
    }
   ],
   "source": [
    "visited_lst"
   ]
  },
  {
   "cell_type": "code",
   "execution_count": 7,
   "metadata": {},
   "outputs": [
    {
     "name": "stdout",
     "output_type": "stream",
     "text": [
      "Ausburg\n",
      "Karlsruhe\n",
      "Mannhein\n",
      "Frankfurt\n",
      "Wurzburg\n",
      "Numberg\n",
      "Stuttgart\n"
     ]
    }
   ],
   "source": [
    "visited_lst = []\n",
    "path_lst = []\n",
    "def DFS_PATH(node, node2):\n",
    "    global visited_lst, adj_lst, path_lst\n",
    "\n",
    "    if node2 in visited_lst:\n",
    "        return\n",
    "    if node not in visited_lst:\n",
    "        print(node)\n",
    "        visited_lst.append(node)\n",
    "        for i in adj_lst[node]:\n",
    "            DFS_PATH(i, node2)\n",
    "DFS_PATH('Ausburg', 'Stuttgart')"
   ]
  },
  {
   "cell_type": "code",
   "execution_count": 8,
   "metadata": {},
   "outputs": [
    {
     "name": "stdout",
     "output_type": "stream",
     "text": [
      "Ausburg\n",
      "Karlsruhe\n",
      "Mannhein\n",
      "Frankfurt\n",
      "Wurzburg\n",
      "Numberg\n",
      "Stuttgart\n",
      "Erfurt\n",
      "Kassel\n"
     ]
    }
   ],
   "source": [
    "visited_lst = []\n",
    "path_lst = []\n",
    "def DFS_PATH(node, node2, path = []):\n",
    "    global visited_lst, path_lst\n",
    "\n",
    "    if node2 in visited_lst:\n",
    "        return\n",
    "    \n",
    "    if node not in visited_lst:\n",
    "        print(node)\n",
    "        \n",
    "        visited_lst.append(node)\n",
    "        path.append(node)\n",
    "\n",
    "        if node == node2:\n",
    "            path_lst.append(path.copy())\n",
    "            return\n",
    "\n",
    "        for i in adj_lst[node]:\n",
    "            DFS_PATH(i, node2, path)\n",
    "\n",
    "\n",
    "        path.pop()\n",
    "DFS_PATH('Ausburg', 'Kassel')"
   ]
  },
  {
   "cell_type": "code",
   "execution_count": 9,
   "metadata": {},
   "outputs": [
    {
     "data": {
      "text/plain": [
       "['Ausburg', 'Karlsruhe', 'Mannhein', 'Frankfurt', 'Kassel']"
      ]
     },
     "execution_count": 9,
     "metadata": {},
     "output_type": "execute_result"
    }
   ],
   "source": [
    "path_lst[0]"
   ]
  },
  {
   "cell_type": "code",
   "execution_count": 10,
   "metadata": {},
   "outputs": [
    {
     "name": "stdout",
     "output_type": "stream",
     "text": [
      "Numberg\n",
      "Wurzburg\n",
      "Stuttgart\n",
      "Frankfurt\n",
      "Erfurt\n",
      "Mannhein\n",
      "Kassel\n",
      "Karlsruhe\n",
      "Munchen\n",
      "Ausburg\n"
     ]
    }
   ],
   "source": [
    "visited_lst = []\n",
    "queue_lst = []\n",
    "\n",
    "def BFS(node):\n",
    "    global visited_lst, queue_lst\n",
    "    if node not in visited_lst:\n",
    "        visited_lst.append(node)\n",
    "        queue_lst.append(node)\n",
    "        # print(queue_lst)\n",
    "        print(node)\n",
    "        for node in queue_lst:\n",
    "            # print(node)\n",
    "            # queue_lst.pop(0)\n",
    "            for i in adj_lst[node]:\n",
    "                # print(i, 'i')\n",
    "                # if i in queue_lst:\n",
    "                    \n",
    "                if i not in queue_lst:\n",
    "                \n",
    "                    # queue_lst.pop(0)\n",
    "                    BFS(i)\n",
    "                    # queue_lst.pop(0)\n",
    "\n",
    "                # else:\n",
    "                    \n",
    "                    \n",
    "\n",
    "        \n",
    "\n",
    "BFS('Numberg')"
   ]
  },
  {
   "cell_type": "code",
   "execution_count": 11,
   "metadata": {},
   "outputs": [
    {
     "name": "stdout",
     "output_type": "stream",
     "text": [
      "['Frankfurt']\n",
      "Mannhein i\n",
      "['Frankfurt', 'Mannhein']\n",
      "Mannhein i\n",
      "Wurzburg i\n",
      "['Frankfurt', 'Mannhein', 'Wurzburg']\n",
      "Mannhein i\n",
      "Wurzburg i\n",
      "Kassel i\n",
      "['Frankfurt', 'Mannhein', 'Wurzburg', 'Kassel']\n",
      "Mannhein i\n",
      "Wurzburg i\n",
      "Kassel i\n",
      "Frankfurt i\n",
      "Karlsruhe i\n",
      "['Frankfurt', 'Mannhein', 'Wurzburg', 'Kassel', 'Karlsruhe']\n",
      "Mannhein i\n",
      "Wurzburg i\n",
      "Kassel i\n",
      "Frankfurt i\n",
      "Karlsruhe i\n",
      "Frankfurt i\n",
      "Numberg i\n",
      "['Frankfurt', 'Mannhein', 'Wurzburg', 'Kassel', 'Karlsruhe', 'Numberg']\n",
      "Mannhein i\n",
      "Wurzburg i\n",
      "Kassel i\n",
      "Frankfurt i\n",
      "Karlsruhe i\n",
      "Frankfurt i\n",
      "Numberg i\n",
      "Erfurt i\n",
      "Frankfurt i\n",
      "Munchen i\n",
      "Mannhein i\n",
      "Ausburg i\n",
      "Wurzburg i\n",
      "Stuttgart i\n",
      "Erfurt i\n",
      "Frankfurt i\n",
      "Munchen i\n",
      "Mannhein i\n",
      "Ausburg i\n",
      "Wurzburg i\n",
      "Stuttgart i\n",
      "Frankfurt i\n",
      "Numberg i\n",
      "Erfurt i\n",
      "Frankfurt i\n",
      "Munchen i\n",
      "Mannhein i\n",
      "Ausburg i\n",
      "Wurzburg i\n",
      "Stuttgart i\n",
      "Frankfurt i\n",
      "Karlsruhe i\n",
      "Frankfurt i\n",
      "Numberg i\n",
      "Erfurt i\n",
      "Frankfurt i\n",
      "Munchen i\n",
      "Mannhein i\n",
      "Ausburg i\n",
      "Wurzburg i\n",
      "Stuttgart i\n",
      "Kassel i\n",
      "Frankfurt i\n",
      "Karlsruhe i\n",
      "Frankfurt i\n",
      "Numberg i\n",
      "Erfurt i\n",
      "Frankfurt i\n",
      "Munchen i\n",
      "Mannhein i\n",
      "Ausburg i\n",
      "Wurzburg i\n",
      "Stuttgart i\n",
      "Wurzburg i\n",
      "Kassel i\n",
      "Frankfurt i\n",
      "Karlsruhe i\n",
      "Frankfurt i\n",
      "Numberg i\n",
      "Erfurt i\n",
      "Frankfurt i\n",
      "Munchen i\n",
      "Mannhein i\n",
      "Ausburg i\n",
      "Wurzburg i\n",
      "Stuttgart i\n"
     ]
    }
   ],
   "source": [
    "visited_lst = []\n",
    "queue_lst = []\n",
    "\n",
    "def BFS_SEARCH(node, node2):\n",
    "    global visited_lst, queue_lst\n",
    "    if node2 in visited_lst:\n",
    "        return\n",
    "    if node not in visited_lst:\n",
    "        visited_lst.append(node)\n",
    "        queue_lst.append(node)\n",
    "        print(queue_lst)\n",
    "        # print(node)\n",
    "        for node in queue_lst:\n",
    "            # print(node)\n",
    "            # queue_lst.pop(0)\n",
    "            for i in adj_lst[node]:\n",
    "                print(i, 'i')\n",
    "                # if i in queue_lst:\n",
    "                    \n",
    "                if i not in queue_lst:\n",
    "                \n",
    "                    # queue_lst.pop(0)\n",
    "                    BFS_SEARCH(i, node2)\n",
    "                    # queue_lst.pop(0)\n",
    "\n",
    "                # else:\n",
    "                    \n",
    "                    \n",
    "\n",
    "        \n",
    "\n",
    "BFS_SEARCH('Frankfurt', 'Numberg')"
   ]
  },
  {
   "cell_type": "code",
   "execution_count": 12,
   "metadata": {},
   "outputs": [
    {
     "name": "stdout",
     "output_type": "stream",
     "text": [
      "Munchen\n",
      "Kassel\n",
      "Frankfurt\n",
      "Mannhein\n",
      "Wurzburg\n",
      "Karlsruhe\n",
      "Numberg\n"
     ]
    }
   ],
   "source": [
    "visited_lst = []\n",
    "queue_lst = []\n",
    "path_lst = []\n",
    "\n",
    "def BFS_PATH(node, node2, path = []):\n",
    "    global visited_lst, queue_lst\n",
    "    if node2 in visited_lst:\n",
    "        # if node2 not in path_lst:\n",
    "        return\n",
    "            \n",
    "    if node not in visited_lst:\n",
    "        visited_lst.append(node)\n",
    "        queue_lst.append(node)\n",
    "        # print(queue_lst)\n",
    "        print(node)\n",
    "\n",
    "        \n",
    "        for node in queue_lst:\n",
    "            # print(node)\n",
    "            # queue_lst.pop(0)\n",
    "            for i in adj_lst[node]:\n",
    "                # print(i, 'i')\n",
    "                # if i in queue_lst:\n",
    "                    \n",
    "                if i not in queue_lst:\n",
    "                \n",
    "                    # queue_lst.pop(0)\n",
    "                    BFS_PATH(i, node2)\n",
    "                    # queue_lst.pop(0)\n",
    "                # else:\n",
    "                    \n",
    "                    \n",
    "\n",
    "        \n",
    "\n",
    "BFS_PATH('Munchen', 'Numberg')"
   ]
  },
  {
   "cell_type": "code",
   "execution_count": 13,
   "metadata": {},
   "outputs": [],
   "source": [
    "visited_lst = []\n",
    "queue_lst = []\n",
    "\n",
    "def BFS_PATH(node, node2, lst = []):\n",
    "    global visited_lst, queue_lst\n",
    "\n",
    "    if node2 in queue_lst:\n",
    "        queue_lst.append(lst)\n",
    "        return\n",
    "\n",
    "    if node == node2:\n",
    "        return\n",
    "\n",
    "    nod = adj_lst[node]\n",
    "    visited_lst.append(node)\n",
    "\n",
    "    if node not in visited_lst:\n",
    "\n",
    "        for i in nod:\n",
    "\n",
    "            print(i)\n",
    "\n",
    "            BFS_PATH(i, node2)\n",
    "\n",
    "\n",
    "BFS_PATH('Frankfurt', 'Erfurt')"
   ]
  },
  {
   "cell_type": "code",
   "execution_count": 14,
   "metadata": {},
   "outputs": [
    {
     "data": {
      "text/plain": [
       "[]"
      ]
     },
     "execution_count": 14,
     "metadata": {},
     "output_type": "execute_result"
    }
   ],
   "source": [
    "queue_lst"
   ]
  },
  {
   "cell_type": "code",
   "execution_count": 15,
   "metadata": {},
   "outputs": [
    {
     "name": "stdout",
     "output_type": "stream",
     "text": [
      "Frankfurt\n",
      "Mannhein i\n",
      "Wurzburg i\n",
      "Kassel i\n"
     ]
    }
   ],
   "source": [
    "visited_lst = []\n",
    "queue_lst = []\n",
    "node = \"Frankfurt\"\n",
    "node2 = 'Erfurt'\n",
    "dic = {node : None}\n",
    "\n",
    "def BFS_PATH(node, node2, dic):\n",
    "    global visited_lst, queue_lst\n",
    "    if node2 in visited_lst:\n",
    "        return construct_path(dic, node, node2)\n",
    "    if node not in visited_lst:\n",
    "        visited_lst.append(node)\n",
    "        queue_lst.append(node)\n",
    "        # print(queue_lst)\n",
    "        print(node)\n",
    "        # for node in queue_lst:\n",
    "            # print(node)\n",
    "            # queue_lst.pop(0)\n",
    "        for i in adj_lst[node]:\n",
    "\n",
    "            print(i, 'i')\n",
    "                # if i in queue_lst:\n",
    "                    \n",
    "            if i not in visited_lst:\n",
    "                dic[i] = node\n",
    "                    # queue_lst.pop(0)\n",
    "                # BFS_PATH(i, node2)\n",
    "                queue_lst.append(i)\n",
    "                    # queue_lst.pop(0)\n",
    "\n",
    "                # else:\n",
    "\n",
    "\n",
    "        if queue_lst:\n",
    "            next_node = queue_lst.pop(0)\n",
    "\n",
    "            return BFS_PATH(next_node, node2, dic)\n",
    "        \n",
    "        return []\n",
    "                    \n",
    "                    \n",
    "\n",
    "        \n",
    "\n",
    "path = BFS_PATH(node, node2, dic)\n",
    "\n",
    "def construct_path(parent_dict, start, end):\n",
    "    path = [end]\n",
    "    while end != start:\n",
    "        end = parent_dict[end]\n",
    "        path.append(end)\n",
    "    return path[::-1]\n",
    "\n",
    "\n",
    "\n",
    "if path:\n",
    "    print(\"Path from\", node, \"to\", node2, \":\", ' -> '.join(path))"
   ]
  },
  {
   "cell_type": "code",
   "execution_count": 16,
   "metadata": {},
   "outputs": [
    {
     "data": {
      "text/plain": [
       "['Mannhein', 'Wurzburg', 'Kassel']"
      ]
     },
     "execution_count": 16,
     "metadata": {},
     "output_type": "execute_result"
    }
   ],
   "source": [
    "queue_lst"
   ]
  },
  {
   "cell_type": "code",
   "execution_count": 21,
   "metadata": {},
   "outputs": [
    {
     "name": "stdout",
     "output_type": "stream",
     "text": [
      "['Frankfurt', 'Wurzburg', 'Erfurt'] ['Frankfurt', 'Mannhein', 'Wurzburg', 'Kassel', 'Karlsruhe', 'Numberg', 'Erfurt']\n"
     ]
    }
   ],
   "source": [
    "visited_lst = []\n",
    "queue_lst = []\n",
    "\n",
    "def BFS_SEARCH(node, node2, parent_dict):\n",
    "    global visited_lst, queue_lst\n",
    "    # print(parent_dict)\n",
    "    if node2 in visited_lst:\n",
    "        return construct_path(parent_dict, node, node2)\n",
    "    if node not in visited_lst:\n",
    "        visited_lst.append(node)\n",
    "        queue_lst.append(node)\n",
    "        for neighbor in adj_lst[node]:\n",
    "            if neighbor not in visited_lst:\n",
    "                parent_dict[neighbor] = node\n",
    "                queue_lst.append(neighbor)\n",
    "    if queue_lst:\n",
    "        next_node = queue_lst.pop(0)\n",
    "        return BFS_SEARCH(next_node, node2, parent_dict)\n",
    "    return []\n",
    "\n",
    "def construct_path(parent_dict, start, end):\n",
    "    path = [end]\n",
    "    while end != start:\n",
    "        end = parent_dict[end]\n",
    "        if end is None:\n",
    "            break\n",
    "        path.append(end)\n",
    "    return path[::-1]\n",
    "\n",
    "start_node = 'Frankfurt'\n",
    "end_node = 'Erfurt'\n",
    "parent_dict = {start_node: None}\n",
    "path = BFS_SEARCH(start_node, end_node, parent_dict)\n",
    "\n",
    "print(path, visited_lst)\n",
    "\n"
   ]
  },
  {
   "cell_type": "code",
   "execution_count": null,
   "metadata": {},
   "outputs": [],
   "source": []
  },
  {
   "cell_type": "code",
   "execution_count": 18,
   "metadata": {},
   "outputs": [],
   "source": [
    "# if path:\n",
    "    # print(\"Path from\", start_node, \"to\", end_node, \":\", ' -> '.join(path))\n",
    "# else:\n",
    "    # print(\"No path found from\", start_node, \"to\", end_node)"
   ]
  }
 ],
 "metadata": {
  "kernelspec": {
   "display_name": "base",
   "language": "python",
   "name": "python3"
  },
  "language_info": {
   "codemirror_mode": {
    "name": "ipython",
    "version": 3
   },
   "file_extension": ".py",
   "mimetype": "text/x-python",
   "name": "python",
   "nbconvert_exporter": "python",
   "pygments_lexer": "ipython3",
   "version": "3.11.3"
  },
  "orig_nbformat": 4
 },
 "nbformat": 4,
 "nbformat_minor": 2
}
