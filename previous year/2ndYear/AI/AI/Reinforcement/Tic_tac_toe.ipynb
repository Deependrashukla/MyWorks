{
 "cells": [
  {
   "cell_type": "code",
   "execution_count": 8,
   "metadata": {},
   "outputs": [],
   "source": [
    "from state import State\n",
    "import random\n",
    "import copy"
   ]
  },
  {
   "cell_type": "code",
   "execution_count": 9,
   "metadata": {},
   "outputs": [],
   "source": [
    "lst = []\n",
    "\n",
    "for i in range(9):\n",
    "    obj = State()\n",
    "    obj.enterValue(i, 0)\n",
    "    lst.append(obj)"
   ]
  },
  {
   "cell_type": "code",
   "execution_count": 14,
   "metadata": {},
   "outputs": [
    {
     "name": "stdout",
     "output_type": "stream",
     "text": [
      "[0, None, None, None, None, None, None, None, None]\n",
      "[None, 0, None, None, None, None, None, None, None]\n",
      "[None, None, 0, None, None, None, None, None, None]\n",
      "[None, None, None, 0, None, None, None, None, None]\n",
      "[None, None, None, None, 0, None, None, None, None]\n",
      "[None, None, None, None, None, 0, None, None, None]\n",
      "[None, None, None, None, None, None, 0, None, None]\n",
      "[None, None, None, None, None, None, None, 0, None]\n",
      "[None, None, None, None, None, None, None, None, 0]\n"
     ]
    }
   ],
   "source": [
    "lst1 = []\n",
    "for i in range(9):\n",
    "    lst1.append(lst[i].getState())\n",
    "    print(lst[i].getState())"
   ]
  },
  {
   "cell_type": "code",
   "execution_count": 16,
   "metadata": {},
   "outputs": [],
   "source": [
    "initialState = lst1"
   ]
  },
  {
   "cell_type": "code",
   "execution_count": 17,
   "metadata": {},
   "outputs": [],
   "source": [
    "dic = {}\n",
    "\n",
    "rough_lst = []"
   ]
  },
  {
   "cell_type": "code",
   "execution_count": 54,
   "metadata": {},
   "outputs": [
    {
     "name": "stdout",
     "output_type": "stream",
     "text": [
      "[0, 1]\n",
      "0\n",
      "[1, 0]\n",
      "1\n",
      "[0, 1]\n",
      "0\n",
      "[1, 0]\n",
      "1\n",
      "[0, 1]\n",
      "0\n",
      "[1, 0]\n",
      "1\n",
      "[0, 1]\n",
      "0\n",
      "[1, 0]\n",
      "1\n",
      "[0, 1]\n",
      "0\n"
     ]
    }
   ],
   "source": [
    "index = random.randint(0, 8)\n",
    "\n",
    "stack_value = [0, 1]\n",
    "for _ in range(9):\n",
    "    print(stack_value)\n",
    "    value = stack_value.pop(0)\n",
    "    print(value)\n",
    "    stack_value.append(value)\n"
   ]
  },
  {
   "cell_type": "code",
   "execution_count": null,
   "metadata": {},
   "outputs": [],
   "source": [
    "dic = {}"
   ]
  },
  {
   "cell_type": "code",
   "execution_count": 55,
   "metadata": {},
   "outputs": [],
   "source": [
    "def frontPropagation(initialState):\n",
    "    global dic \n",
    "    state_zero = initialState[0]\n",
    "    "
   ]
  },
  {
   "cell_type": "markdown",
   "metadata": {},
   "source": [
    "# Json approach"
   ]
  },
  {
   "cell_type": "code",
   "execution_count": null,
   "metadata": {},
   "outputs": [],
   "source": [
    "import json"
   ]
  },
  {
   "cell_type": "code",
   "execution_count": null,
   "metadata": {},
   "outputs": [],
   "source": [
    "dict = {}\n",
    "\n",
    "def FrontPropagation(state):\n",
    "    "
   ]
  }
 ],
 "metadata": {
  "kernelspec": {
   "display_name": "base",
   "language": "python",
   "name": "python3"
  },
  "language_info": {
   "codemirror_mode": {
    "name": "ipython",
    "version": 3
   },
   "file_extension": ".py",
   "mimetype": "text/x-python",
   "name": "python",
   "nbconvert_exporter": "python",
   "pygments_lexer": "ipython3",
   "version": "3.11.3"
  }
 },
 "nbformat": 4,
 "nbformat_minor": 2
}
