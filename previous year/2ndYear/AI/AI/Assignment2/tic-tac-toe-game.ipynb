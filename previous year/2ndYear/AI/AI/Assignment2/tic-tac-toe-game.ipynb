{
 "cells": [
  {
   "cell_type": "code",
   "execution_count": null,
   "metadata": {},
   "outputs": [],
   "source": [
    "import tkinter as tk\n",
    "import json\n",
    "import copy"
   ]
  },
  {
   "cell_type": "code",
   "execution_count": null,
   "metadata": {},
   "outputs": [],
   "source": [
    "def is_horizontal_terminal(state):\n",
    "    for i in range(3):\n",
    "        if state[i][0] == state[i][1] == state[i][2] == 'O' or state[i][0] == state[i][1] == state[i][2] == 'X':\n",
    "            return True\n",
    "        \n",
    "        # if state[1][0] == state[1][1] == state[1][2] == 'O' or state[1][0] == state[1][1] == state[1][2] == 'X':\n",
    "        #     return True\n",
    "        \n",
    "        # if state[2][0] == state[2][1] == state[2][2] == 'O' or state[2][0] == state[2][1] == state[2][2] == 'X':\n",
    "        #     return True"
   ]
  },
  {
   "cell_type": "code",
   "execution_count": null,
   "metadata": {},
   "outputs": [],
   "source": [
    "def is_vertical_terminal(state):\n",
    "    for j in range(3):\n",
    "        if state[0][j] == state[1][j] == state[2][j] == 'O' or state[0][j] == state[1][j] == state[2][j] == 'X':\n",
    "            return True\n",
    "\n"
   ]
  },
  {
   "cell_type": "code",
   "execution_count": null,
   "metadata": {},
   "outputs": [],
   "source": [
    "def is_diagonal_terminal(state):\n",
    "    if state[0][0] == state[1][1] == state[2][2] == 'O' or state[0][0] == state[1][1] == state[2][2] == 'X':\n",
    "        return True\n",
    "    \n",
    "    if state[0][2] == state[1][1] == state[2][0] == 'O' or state[0][2] == state[1][1] == state[2][0] == 'X':\n",
    "        return True"
   ]
  },
  {
   "cell_type": "code",
   "execution_count": null,
   "metadata": {},
   "outputs": [],
   "source": [
    "# def is_draw_terminal(state):\n",
    "#     for i in range(3):\n",
    "#         if state[i][0] == st"
   ]
  },
  {
   "cell_type": "code",
   "execution_count": null,
   "metadata": {},
   "outputs": [],
   "source": [
    "def is_terminal(state):\n",
    "    # if is_horizontal_terminal(state):\n",
    "    #     return True\n",
    "    # if is_vertical_terminal(state):\n",
    "    #     return True\n",
    "    # if is_diagonal_terminal(state):\n",
    "    #     return True\n",
    "\n",
    "    for i in range(3):\n",
    "        if state[i][0] == state[i][1] == state[i][2] == 'O' or state[i][0] == state[i][1] == state[i][2] == 'X':\n",
    "            return True\n",
    "        \n",
    "    for j in range(3):\n",
    "        if state[0][j] == state[1][j] == state[2][j] == 'O' or state[0][j] == state[1][j] == state[2][j] == 'X':\n",
    "            return True\n",
    "        \n",
    "    if state[0][0] == state[1][1] == state[2][2] == 'O' or state[0][0] == state[1][1] == state[2][2] == 'X':\n",
    "        return True\n",
    "    \n",
    "    if state[0][2] == state[1][1] == state[2][0] == 'O' or state[0][2] == state[1][1] == state[2][0] == 'X':\n",
    "        return True\n",
    "\n",
    "    for row in state:\n",
    "        for col in row:\n",
    "            if col == 'N':\n",
    "                return False\n",
    "\n",
    "    return True \n",
    "        \n"
   ]
  },
  {
   "cell_type": "code",
   "execution_count": null,
   "metadata": {},
   "outputs": [],
   "source": [
    "def scoreEvaluator(state):\n",
    "    for i in range(3):\n",
    "        if state[i][0] == state[i][1] == state[i][2] == 'O':\n",
    "            return 1\n",
    "        \n",
    "        if state[i][0] == state[i][1] == state[i][2] == 'X':\n",
    "            return -1\n",
    "        \n",
    "        if state[0][i] == state[1][i] == state[2][i] == 'O':\n",
    "            return 1\n",
    "        \n",
    "        if state[0][i] == state[1][i] == state[2][i] == 'X':\n",
    "            return -1\n",
    "    \n",
    "    if state[0][0] == state[1][1] == state[2][2] == 'O':\n",
    "        return 1\n",
    "    \n",
    "    if state[0][0] == state[1][1] == state[2][2] == 'X':\n",
    "        return -1\n",
    "    \n",
    "    if state[0][2] == state[1][1] == state[2][0] == 'O':\n",
    "        return 1\n",
    "    \n",
    "    if state[0][2] == state[1][1] == state[2][0] == 'X':\n",
    "        return -1\n",
    "    \n",
    "    return 0"
   ]
  },
  {
   "cell_type": "code",
   "execution_count": null,
   "metadata": {},
   "outputs": [],
   "source": [
    "def tic_tac_toe_tree(state, player):\n",
    "    if is_terminal(state):\n",
    "        return {\n",
    "            'current_state' : state, \n",
    "            'player' : player,\n",
    "            'score' : scoreEvaluator(state)\n",
    "        }\n",
    "    \n",
    "    tree = {\n",
    "        'current_state' : state,\n",
    "        'player' : player,\n",
    "        \"score\" : None,\n",
    "        'children' : []\n",
    "    }\n",
    "\n",
    "\n",
    "    for i in range(3):\n",
    "        for j in range(3):\n",
    "            if state[i][j] == 'N':\n",
    "                nextState = copy.deepcopy(state)\n",
    "                nextState[i][j] = player\n",
    "                # print(nextState)\n",
    "\n",
    "                child_tree = tic_tac_toe_tree(nextState, 'O' if player == 'X' else 'X')\n",
    "\n",
    "                tree['children'].append(child_tree)\n",
    "\n",
    "    if player == 'O':\n",
    "        tree['score'] = max(child['score'] for child in tree['children'])\n",
    "\n",
    "    if player == 'X':\n",
    "        tree['score'] = min(child['score'] for child in tree['children'])\n",
    "\n",
    "    return tree\n",
    "\n",
    "initial_state = [['N' for _ in range(3)] for _ in range(3)]\n",
    "x = tic_tac_toe_tree(initial_state, 'O')\n"
   ]
  },
  {
   "cell_type": "code",
   "execution_count": null,
   "metadata": {},
   "outputs": [],
   "source": [
    "with open('tic-tac-toe-game-tree.json', 'w') as f:\n",
    "    json.dump(x, f, indent=1)"
   ]
  },
  {
   "cell_type": "code",
   "execution_count": null,
   "metadata": {},
   "outputs": [],
   "source": [
    "state = [['N'] * 3 for _ in range(3)]"
   ]
  },
  {
   "cell_type": "code",
   "execution_count": null,
   "metadata": {},
   "outputs": [],
   "source": [
    "# state = [state[:] for i in range(3)]"
   ]
  },
  {
   "cell_type": "code",
   "execution_count": null,
   "metadata": {},
   "outputs": [],
   "source": [
    "game_tree = x"
   ]
  },
  {
   "cell_type": "code",
   "execution_count": null,
   "metadata": {},
   "outputs": [],
   "source": [
    "def game_state_display(state):\n",
    "    # def print_board(board):\n",
    "    for row in state:\n",
    "        print(' | '.join(row))\n",
    "        print('-' * 9)\n",
    "\n",
    "game_state_display(state)"
   ]
  },
  {
   "cell_type": "code",
   "execution_count": null,
   "metadata": {},
   "outputs": [],
   "source": [
    "def player_move(board):\n",
    "    while True:\n",
    "        try:\n",
    "            row = int(input(\"Enter the row (0, 1, or 2): \"))\n",
    "            col = int(input(\"Enter the column (0, 1, or 2): \"))\n",
    "            if board[row][col] == 'N':\n",
    "                return row, col\n",
    "            else:\n",
    "                print(\"That cell is already occupied. Try again.\")\n",
    "        except (ValueError, IndexError):\n",
    "            print(\"Invalid input. Try again.\")"
   ]
  },
  {
   "cell_type": "code",
   "execution_count": null,
   "metadata": {},
   "outputs": [],
   "source": [
    "def computer_move(tree, state, player):\n",
    "    best_score = float(\"-inf\") if player == 'O' else float(\"inf\")\n",
    "    move = None\n",
    "\n",
    "    for child in tree['children']:\n",
    "        if player == 'O' and child['score'] > best_score:\n",
    "            best_score = child['score']\n",
    "            move = child['current_state']\n",
    "\n",
    "        elif player == 'X' and child['score'] < best_score:\n",
    "            best_score = child['score']\n",
    "            move = child['current_state']\n",
    "\n",
    "\n",
    "    return move"
   ]
  },
  {
   "cell_type": "code",
   "execution_count": 20,
   "metadata": {},
   "outputs": [
    {
     "name": "stdout",
     "output_type": "stream",
     "text": [
      "N | N | N\n",
      "---------\n",
      "N | N | N\n",
      "---------\n",
      "N | N | N\n",
      "---------\n",
      "\n",
      "\n",
      "O | N | N\n",
      "---------\n",
      "N | X | N\n",
      "---------\n",
      "N | N | N\n",
      "---------\n",
      "\n",
      "\n",
      "O | X | N\n",
      "---------\n",
      "N | X | O\n",
      "---------\n",
      "N | N | N\n",
      "---------\n",
      "\n",
      "\n",
      "O | X | O\n",
      "---------\n",
      "N | X | O\n",
      "---------\n",
      "N | X | N\n",
      "---------\n",
      "\n",
      "\n",
      "player X wins\n"
     ]
    }
   ],
   "source": [
    "state = [['N'] * 3 for _ in range(3)]\n",
    "while True:\n",
    "    game_state_display(state)\n",
    "    print('\\n')\n",
    "\n",
    "    i, j = player_move(state)\n",
    "\n",
    "    state[i][j] = 'O'\n",
    "\n",
    "    if is_terminal(state):\n",
    "        game_state_display(state)\n",
    "\n",
    "        print('\\n')\n",
    "\n",
    "        if scoreEvaluator(state) == 1:\n",
    "            print('PLayer O wins')\n",
    "\n",
    "        elif scoreEvaluator(state) == -1:\n",
    "            print('player X wins')\n",
    "\n",
    "        else:\n",
    "            print(\"Game draw\")\n",
    "\n",
    "        break\n",
    "\n",
    "    tree = tic_tac_toe_tree(state, 'X')\n",
    "\n",
    "    state = computer_move(tree, state, 'X')\n",
    "\n",
    "    if is_terminal(state):\n",
    "        game_state_display(state)\n",
    "\n",
    "        print('\\n')\n",
    "\n",
    "        if scoreEvaluator(state) == 1:\n",
    "            print('PLayer O wins')\n",
    "\n",
    "        elif scoreEvaluator(state) == -1:\n",
    "            print('player X wins')\n",
    "\n",
    "        else:\n",
    "            print(\"Game draw\")\n",
    "\n",
    "        break\n"
   ]
  }
 ],
 "metadata": {
  "kernelspec": {
   "display_name": "base",
   "language": "python",
   "name": "python3"
  },
  "language_info": {
   "codemirror_mode": {
    "name": "ipython",
    "version": 3
   },
   "file_extension": ".py",
   "mimetype": "text/x-python",
   "name": "python",
   "nbconvert_exporter": "python",
   "pygments_lexer": "ipython3",
   "version": "3.11.3"
  }
 },
 "nbformat": 4,
 "nbformat_minor": 2
}
