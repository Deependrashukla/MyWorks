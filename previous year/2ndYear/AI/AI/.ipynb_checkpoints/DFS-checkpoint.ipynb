{
 "cells": [
  {
   "cell_type": "markdown",
   "metadata": {},
   "source": [
    "<center> <h1> Depth-First Search (DFS) Algorithm </h1> </center>"
   ]
  },
  {
   "cell_type": "markdown",
   "metadata": {},
   "source": [
    "Depth-First Search (DFS) is a fundamental graph traversal and search algorithm used to explore and analyze graphs and trees. In this algorithm search the graph or tree in depth first.\n",
    "\n",
    "Explanation by example:- (Frankfurt -> NUmberg)\n",
    "* We begin our journey at Frankfurt, our initial node.\n",
    "* We check the connected nodes to Frankfurt. We find Mannheim, Wurzburg, and Kassel nodes.\n",
    "* We pick Mannheim as our next destination since it's connected to Frankfurt.\n",
    "* Now, we explore the cities connected to Mannheim. We find Frankfurt and Karlsruhe.\n",
    "* We pick Karlsruhe as our next node because have already visited Frankfurt.\n",
    "* Now, again we explore the connected cities to Karsruhe. We find Mannheim and Ausburg.\n",
    "* We pick Ausburg. Now there no way to go ahead so we start back-tracking.\n",
    "* We do back-tracking like Ausburg -> Karlsruhe -> Mannheim -> Frankfurt.\n",
    "* Now, we have a second node Wurzburg connected to Frankfurt.\n",
    "* We pick Wurgburg as a node. We find Numberg and Erfurt as connected nodes.\n",
    "* Now we pick Numberg as a connected node.\n",
    "* Wow (😀😀) we reach at our location. Our path is Frankfurt -> Wurgburg -> Numberg.\n"
   ]
  },
  {
   "cell_type": "markdown",
   "metadata": {},
   "source": [
    "<center> <img src=cities.jpg width = 700> </center>\n",
    "<!-- ![Node_edge_Image](cities.jpg) -->"
   ]
  },
  {
   "cell_type": "markdown",
   "metadata": {},
   "source": [
    "## Adjancy list"
   ]
  },
  {
   "cell_type": "code",
   "execution_count": 5,
   "metadata": {},
   "outputs": [],
   "source": [
    "adj_lst = {\"Frankfurt\": [\"Mannhein\", \"Wurzburg\", \"Kassel\"], \n",
    "           \"Mannhein\": [\"Frankfurt\", \"Karlsruhe\"], \n",
    "           \"Wurzburg\": [\"Frankfurt\", \"Numberg\", \"Erfurt\"], \n",
    "           \"Kassel\": [\"Frankfurt\", \"Munchen\"], \n",
    "           \"Karlsruhe\": [\"Mannhein\", \"Ausburg\"], \n",
    "           \"Numberg\": [\"Wurzburg\", \"Stuttgart\"], \n",
    "           \"Erfurt\": [\"Wurzburg\"], \"Munchen\": [\"Kassel\"], \n",
    "           \"Ausburg\": [\"Karlsruhe\"], \"Stuttgart\": [\"Numberg\"]}\n"
   ]
  },
  {
   "cell_type": "markdown",
   "metadata": {},
   "source": [
    "## Traversing the tree full tree by singal node."
   ]
  },
  {
   "cell_type": "code",
   "execution_count": 9,
   "metadata": {},
   "outputs": [
    {
     "name": "stdout",
     "output_type": "stream",
     "text": [
      "Wurzburg\n",
      "Frankfurt\n",
      "Mannhein\n",
      "Karlsruhe\n",
      "Ausburg\n",
      "Kassel\n",
      "Munchen\n",
      "Numberg\n",
      "Stuttgart\n",
      "Erfurt\n"
     ]
    }
   ],
   "source": [
    "visited_lst = [] # We created a accumalator to keep the track of visited nodes.\n",
    "def DFS(node):\n",
    "    global visited_lst, adj_lst\n",
    "    if node not in visited_lst:\n",
    "        print(node)\n",
    "        visited_lst.append(node)\n",
    "\n",
    "        # We are approching recursive algorithm on connected nodes.\n",
    "        for i in adj_lst[node]:\n",
    "            DFS(i)\n",
    "\n",
    "DFS('Wurzburg')"
   ]
  },
  {
   "cell_type": "markdown",
   "metadata": {},
   "source": [
    "## Traversing the tree between two nodes"
   ]
  },
  {
   "cell_type": "code",
   "execution_count": 7,
   "metadata": {},
   "outputs": [
    {
     "name": "stdout",
     "output_type": "stream",
     "text": [
      "Frankfurt\n",
      "Mannhein\n",
      "Karlsruhe\n",
      "Ausburg\n",
      "Wurzburg\n",
      "Numberg\n",
      "Stuttgart\n",
      "Erfurt\n"
     ]
    }
   ],
   "source": [
    "visited_lst = []\n",
    "def DFS_SEARCH(node, node2):\n",
    "    global visited_lst, adj_lst\n",
    "\n",
    "    # If we find target node(node2) in visited list then we have to stop there.\n",
    "    if node2 in visited_lst:\n",
    "        return\n",
    "    \n",
    "    # If node is not visited by us then we append that node in visted node.\n",
    "    if node not in visited_lst:\n",
    "        visited_lst.append(node)\n",
    "        print(node)\n",
    "\n",
    "        # We are following recursive algorithm on the connected nodes.\n",
    "        for i in adj_lst[node]:\n",
    "            DFS_SEARCH(i, node2)\n",
    "                      \n",
    "DFS_SEARCH('Frankfurt', 'Erfurt')"
   ]
  },
  {
   "cell_type": "markdown",
   "metadata": {},
   "source": [
    "## Finding the path between two nodes"
   ]
  },
  {
   "cell_type": "code",
   "execution_count": 8,
   "metadata": {},
   "outputs": [
    {
     "name": "stdout",
     "output_type": "stream",
     "text": [
      "Ausburg\n",
      "Karlsruhe\n",
      "Mannhein\n",
      "Frankfurt\n",
      "Wurzburg\n",
      "Numberg\n",
      "Stuttgart\n"
     ]
    }
   ],
   "source": [
    "visited_lst = []\n",
    "path_lst = []\n",
    "def DFS_PATH(node, node2):\n",
    "    global visited_lst, adj_lst, path_lst\n",
    "\n",
    "    if node2 in visited_lst:\n",
    "        return\n",
    "    if node not in visited_lst:\n",
    "        print(node)\n",
    "        visited_lst.append(node)\n",
    "        for i in adj_lst[node]:\n",
    "            DFS_PATH(i, node2)\n",
    "DFS_PATH('Ausburg', 'Stuttgart')"
   ]
  }
 ],
 "metadata": {
  "kernelspec": {
   "display_name": "Python 3 (ipykernel)",
   "language": "python",
   "name": "python3"
  },
  "language_info": {
   "codemirror_mode": {
    "name": "ipython",
    "version": 3
   },
   "file_extension": ".py",
   "mimetype": "text/x-python",
   "name": "python",
   "nbconvert_exporter": "python",
   "pygments_lexer": "ipython3",
   "version": "3.11.3"
  }
 },
 "nbformat": 4,
 "nbformat_minor": 2
}
