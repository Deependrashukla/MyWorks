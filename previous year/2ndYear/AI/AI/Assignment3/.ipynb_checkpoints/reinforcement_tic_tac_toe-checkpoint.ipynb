{
 "cells": [
  {
   "cell_type": "code",
   "execution_count": 1,
   "metadata": {},
   "outputs": [],
   "source": [
    "import random\n",
    "import json\n",
    "import copy"
   ]
  },
  {
   "cell_type": "code",
   "execution_count": 2,
   "metadata": {},
   "outputs": [
    {
     "name": "stdout",
     "output_type": "stream",
     "text": [
      "-------------------\n",
      "|  N  |  N  |  N  |\n",
      "-------------------\n",
      "|  N  |  N  |  O  |\n",
      "-------------------\n",
      "|  N  |  N  |  N  |\n",
      "-------------------\n"
     ]
    }
   ],
   "source": [
    "def display_state(state):\n",
    "    print('-------------------')\n",
    "    print('| ', state[0], ' | ', state[1], ' | ', state[2], ' |')\n",
    "    print('-------------------')\n",
    "    print('| ', state[3], ' | ', state[4], ' | ', state[5], ' |')\n",
    "    print('-------------------')\n",
    "    print('| ', state[6], ' | ', state[7], ' | ', state[8], ' |')\n",
    "    print('-------------------')\n",
    "\n",
    "display_state('NNNNNONNN')"
   ]
  },
  {
   "cell_type": "code",
   "execution_count": 3,
   "metadata": {},
   "outputs": [
    {
     "name": "stdout",
     "output_type": "stream",
     "text": [
      "(False, 0)\n"
     ]
    }
   ],
   "source": [
    "def terminal(state):\n",
    "\n",
    "    #### Horizontal ####\n",
    "    if state[0] == state[1] == state[2] == 'O':\n",
    "        return (True, 1)\n",
    "    \n",
    "    if state[0] == state[1] == state[2] == 'X':\n",
    "        return (True, -1)\n",
    "    \n",
    "    if state[3] == state[4] == state[5] == 'O':\n",
    "        return (True, 1)\n",
    "    \n",
    "    if state[3] == state[4] == state[5] == 'X':\n",
    "        return (True, -1)\n",
    "    \n",
    "    if state[6] == state[7] == state[8] == 'O':\n",
    "        return (True, 1)\n",
    "    \n",
    "    if state[6] == state[7] == state[8] == 'X':\n",
    "        return (True, -1)\n",
    "    \n",
    "\n",
    "    #### vertical ####\n",
    "\n",
    "    if state[0] == state[3] == state[6] == 'O':\n",
    "        return (True, 1)\n",
    "    \n",
    "    if state[0] == state[3] == state[6] == 'X':\n",
    "        return (True, -1)\n",
    "    \n",
    "    if state[1] == state[4] == state[7] == 'O':\n",
    "        return (True, 1)\n",
    "    \n",
    "    if state[1] == state[4] == state[7] == 'X':\n",
    "        return (True, -1)\n",
    "    \n",
    "    if state[2] == state[5] == state[8] == 'O':\n",
    "        return (True, 1)\n",
    "    \n",
    "    if state[2] == state[5] == state[8] == 'X':\n",
    "        return (True, -1)\n",
    "    \n",
    "\n",
    "    #### Diagonal ####\n",
    "\n",
    "    if state[0] == state[4] == state[8] == 'O':\n",
    "        return (True, 1)\n",
    "    \n",
    "    if state[0] == state[4] == state[8] == 'X':\n",
    "        return (True, -1)\n",
    "    \n",
    "    if state[2] == state[4] == state[6] == 'O':\n",
    "        return (True, 1)\n",
    "    \n",
    "    if state[2] == state[4] == state[6] == 'X':\n",
    "        return (True, -1)\n",
    "    \n",
    "\n",
    "    for row in state:\n",
    "        if row == 'N':\n",
    "            return (False, 0)\n",
    "        \n",
    "    return (True, 0)\n",
    "    \n",
    "\n",
    "print(terminal('NNNOXOONN'))"
   ]
  },
  {
   "cell_type": "code",
   "execution_count": 4,
   "metadata": {},
   "outputs": [
    {
     "name": "stdout",
     "output_type": "stream",
     "text": [
      "True\n"
     ]
    }
   ],
   "source": [
    "def is_terminal(state):\n",
    "    return terminal(state)[0]\n",
    "\n",
    "print(is_terminal('XNNXXOONX'))"
   ]
  },
  {
   "cell_type": "code",
   "execution_count": 5,
   "metadata": {},
   "outputs": [
    {
     "name": "stdout",
     "output_type": "stream",
     "text": [
      "1\n"
     ]
    }
   ],
   "source": [
    "def scoreEvaluator(state):\n",
    "\n",
    "    return terminal(state)[1]\n",
    "\n",
    "print(scoreEvaluator('NNNOOOONN'))"
   ]
  },
  {
   "cell_type": "code",
   "execution_count": 6,
   "metadata": {},
   "outputs": [
    {
     "name": "stdout",
     "output_type": "stream",
     "text": [
      "OONNNNNNN\n"
     ]
    }
   ],
   "source": [
    "def stateGenerator(intial_state, pos, player):\n",
    "    state = \"\"\n",
    "    for i, row in enumerate(intial_state):\n",
    "        if i == pos:\n",
    "            state += player\n",
    "        else:\n",
    "            state += row\n",
    "\n",
    "    return state\n",
    "\n",
    "print(stateGenerator('ONNNNNNNN', 1, 'O'))"
   ]
  },
  {
   "cell_type": "code",
   "execution_count": 7,
   "metadata": {},
   "outputs": [],
   "source": [
    "dic = {}\n",
    "dic[0] = 1"
   ]
  },
  {
   "cell_type": "code",
   "execution_count": 8,
   "metadata": {},
   "outputs": [
    {
     "data": {
      "text/plain": [
       "{0: 1}"
      ]
     },
     "execution_count": 8,
     "metadata": {},
     "output_type": "execute_result"
    }
   ],
   "source": [
    "dic"
   ]
  },
  {
   "cell_type": "code",
   "execution_count": 28,
   "metadata": {},
   "outputs": [],
   "source": [
    "tree = {'NNNNNNNNN':0}\n"
   ]
  },
  {
   "cell_type": "code",
   "execution_count": 10,
   "metadata": {},
   "outputs": [],
   "source": [
    "# alpha = 0.3\n",
    "# for _ in range(1):\n",
    "#     def func(tree, initial_state, player, value = 0):\n",
    "#         # global tree\n",
    "#         while True:\n",
    "#             temp_pos = random.randint(0, 8)\n",
    "#             if initial_state[temp_pos] != 'O' and initial_state[temp_pos] != 'X':\n",
    "#                 # state = initial_state[:]\n",
    "#                 # state[temp_pos] = player\n",
    "\n",
    "#                 next_state = stateGenerator(initial_state, temp_pos, player)\n",
    "#                 break\n",
    "\n",
    "#         tree[next_state] = value\n",
    "\n",
    "#         # tree[initial_state] = tree[initial_state] + alpha * (tree[next_state] - tree[initial_state])\n",
    "\n",
    "#         if is_terminal(next_state):\n",
    "#             tree[next_state] = scoreEvaluator(next_state)\n",
    "#             # tree[initial_state] = tree[initial_state] + alpha * (tree[next_state] - tree[initial_state])\n",
    "#             return\n",
    "        \n",
    "#         tree[initial_state] = tree[initial_state] + alpha * (tree[next_state] - tree[initial_state])\n",
    "#         return func(tree, next_state, 'O' if player == 'X' else 'X', tree[next_state])\n",
    "\n",
    "#     func(tree, 'NNNNNNNNN', 'O', 0)"
   ]
  },
  {
   "cell_type": "code",
   "execution_count": 29,
   "metadata": {},
   "outputs": [],
   "source": [
    "for _ in range(1):\n",
    "  def func(tree, initial_state, player, value = 0):\n",
    "\n",
    "    while True:\n",
    "      temp_pos = random.randint(0, 8)\n",
    "      if initial_state[temp_pos] != 'O' and initial_state[temp_pos] != 'X':\n",
    "        next_state = stateGenerator(initial_state, temp_pos, player)\n",
    "        break\n",
    "\n",
    "    tree[next_state] = value\n",
    "\n",
    "    if is_terminal(next_state):\n",
    "      tree[next_state] = scoreEvaluator(next_state)\n",
    "      return\n",
    "\n",
    "    if not is_terminal(next_state):\n",
    "      tree[initial_state] = tree[initial_state] + 0.3 * (tree[next_state] - tree[initial_state])\n",
    "\n",
    "    return func(tree, next_state, 'O' if player == 'X' else 'X', tree[next_state])\n",
    "\n",
    "  func(tree, 'NNNNNNNNN', 'O', 0)"
   ]
  },
  {
   "cell_type": "code",
   "execution_count": 30,
   "metadata": {},
   "outputs": [
    {
     "data": {
      "text/plain": [
       "{'NNNNNNNNN': 0.0,\n",
       " 'ONNNNNNNN': 0.0,\n",
       " 'ONNXNNNNN': 0.0,\n",
       " 'ONOXNNNNN': 0.0,\n",
       " 'OXOXNNNNN': 0.0,\n",
       " 'OXOXNNNNO': 0.0,\n",
       " 'OXOXNNNXO': 0.0,\n",
       " 'OXOXNNOXO': 0,\n",
       " 'OXOXXNOXO': -1}"
      ]
     },
     "execution_count": 30,
     "metadata": {},
     "output_type": "execute_result"
    }
   ],
   "source": [
    "tree"
   ]
  },
  {
   "cell_type": "code",
   "execution_count": null,
   "metadata": {},
   "outputs": [],
   "source": []
  },
  {
   "cell_type": "code",
   "execution_count": 13,
   "metadata": {},
   "outputs": [],
   "source": [
    "with open('game_tree.json', 'w') as f:\n",
    "    json.dump(tree, f)"
   ]
  },
  {
   "cell_type": "code",
   "execution_count": 14,
   "metadata": {},
   "outputs": [],
   "source": [
    "def computer_move(player_state):\n",
    "\n",
    "    possible_state_lst = []\n",
    "\n",
    "    for i, row in enumerate(player_state):\n",
    "        # state = copy.deepcopy(player_state)\n",
    "        if row == \"N\":\n",
    "            next_state = stateGenerator(player_state, i, 'X')\n",
    "\n",
    "            possible_state_lst.append(next_state)\n",
    "    # print(possible_state_lst)\n",
    "\n",
    "\n",
    "    best_value = float(\"-inf\")\n",
    "    best_move = player_state\n",
    "\n",
    "    for k in possible_state_lst:\n",
    "        # print(k, 'k')\n",
    "        if k in tree and tree[k] > best_value:\n",
    "\n",
    "            best_value = tree[k]\n",
    "            best_move = k\n",
    "\n",
    "    return best_move"
   ]
  },
  {
   "cell_type": "code",
   "execution_count": 15,
   "metadata": {},
   "outputs": [
    {
     "data": {
      "text/plain": [
       "0.0"
      ]
     },
     "execution_count": 15,
     "metadata": {},
     "output_type": "execute_result"
    }
   ],
   "source": [
    "tree['OXNNNNNNN']"
   ]
  },
  {
   "cell_type": "code",
   "execution_count": 16,
   "metadata": {},
   "outputs": [],
   "source": [
    "# next_state = 'NNNNNNNNN'\n",
    "# display_state(next_state)\n",
    "\n",
    "# while True:\n",
    "\n",
    "#     if is_terminal(next_state):\n",
    "#         if scoreEvaluator(next_state) == 1:\n",
    "#             print('player O wins')\n",
    "\n",
    "#         if scoreEvaluator(next_state) == -1:\n",
    "#             print('PLayer X wins')\n",
    "\n",
    "#         if scoreEvaluator(next_state) == 0:\n",
    "#             print('game is draw!')\n",
    "\n",
    "#         break\n",
    "\n",
    "#     player_x = int(input('Enter row 0, 1 or 2: '))\n",
    "#     player_y = int(input('Enter col 0, 1 or 2: '))\n",
    "\n",
    "#     index = 3 * player_x + player_y\n",
    "\n",
    "#     next_state = stateGenerator(next_state, index, 'O')\n",
    "#     next_state = computer_move(next_state)\n",
    "#     display_state(next_state)\n",
    "    \n",
    "    \n",
    "#     print('hii')\n",
    "\n",
    "    \n",
    "\n",
    "    \n",
    "        "
   ]
  }
 ],
 "metadata": {
  "kernelspec": {
   "display_name": "Python 3 (ipykernel)",
   "language": "python",
   "name": "python3"
  },
  "language_info": {
   "codemirror_mode": {
    "name": "ipython",
    "version": 3
   },
   "file_extension": ".py",
   "mimetype": "text/x-python",
   "name": "python",
   "nbconvert_exporter": "python",
   "pygments_lexer": "ipython3",
   "version": "3.11.3"
  }
 },
 "nbformat": 4,
 "nbformat_minor": 2
}
