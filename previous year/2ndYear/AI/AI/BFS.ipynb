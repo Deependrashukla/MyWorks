{
 "cells": [
  {
   "cell_type": "code",
   "execution_count": 14,
   "metadata": {},
   "outputs": [],
   "source": [
    "adj_lst = {\"Frankfurt\": [\"Mannhein\", \"Wurzburg\", \"Kassel\"], \"Mannhein\": [\"Frankfurt\", \"Karlsruhe\"], \"Wurzburg\": [\"Frankfurt\", \"Numberg\", \"Erfurt\"], \"Kassel\": [\"Frankfurt\", \"Munchen\"], \"Karlsruhe\": [\"Mannhein\", \"Ausburg\"], \"Numberg\": [\"Wurzburg\", \"Stuttgart\"], \"Erfurt\": [\"Wurzburg\"], \"Munchen\": [\"Kassel\"], \"Ausburg\": [\"Karlsruhe\"], \"Stuttgart\": [\"Numberg\"]}\n"
   ]
  },
  {
   "cell_type": "code",
   "execution_count": 16,
   "metadata": {},
   "outputs": [
    {
     "name": "stdout",
     "output_type": "stream",
     "text": [
      "Numberg\n",
      "Wurzburg\n",
      "Stuttgart\n"
     ]
    }
   ],
   "source": [
    "visited_lst = []\n",
    "queue_lst = []\n",
    "\n",
    "def BFS(node):\n",
    "    global visited_lst, queue_lst\n",
    "    if node not in visited_lst:\n",
    "        visited_lst.append(node)\n",
    "        queue_lst.append(node)\n",
    "        print(node)\n",
    "        # for node in queue_lst:\n",
    "        for i in adj_lst[node]:\n",
    "            print(i)\n",
    "            if i not in queue_lst:\n",
    "                    # BFS(i)\n",
    "                queue_lst.append(i)\n",
    "\n",
    "        if queue_lst:\n",
    "            next_node = queue_lst.pop(0)\n",
    "            return BFS(next_node)\n",
    "        \n",
    "        return [] \n",
    "                    \n",
    "                    \n",
    "\n",
    "        \n",
    "\n",
    "BFS('Numberg')"
   ]
  }
 ],
 "metadata": {
  "kernelspec": {
   "display_name": "base",
   "language": "python",
   "name": "python3"
  },
  "language_info": {
   "codemirror_mode": {
    "name": "ipython",
    "version": 3
   },
   "file_extension": ".py",
   "mimetype": "text/x-python",
   "name": "python",
   "nbconvert_exporter": "python",
   "pygments_lexer": "ipython3",
   "version": "3.11.3"
  },
  "orig_nbformat": 4
 },
 "nbformat": 4,
 "nbformat_minor": 2
}
