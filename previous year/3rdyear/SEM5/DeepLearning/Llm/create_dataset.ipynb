{
 "cells": [
  {
   "cell_type": "code",
   "execution_count": null,
   "metadata": {},
   "outputs": [],
   "source": [
    "! pip install PyMuPDF"
   ]
  },
  {
   "cell_type": "code",
   "execution_count": null,
   "metadata": {},
   "outputs": [],
   "source": [
    "import fitz\n",
    "import re\n",
    "import pandas as pd"
   ]
  },
  {
   "cell_type": "code",
   "execution_count": 3,
   "metadata": {},
   "outputs": [],
   "source": [
    "\n",
    "\n",
    "def create_pdf_to_txt(pdf_book):\n",
    "    # Open the PDF file\n",
    "    doc = fitz.open(pdf_book)\n",
    "\n",
    "    # Extract text from each page\n",
    "    text = \"\"\n",
    "    for page in doc:\n",
    "        text += page.get_text()\n",
    "\n",
    "    with open(\"extracted_text.txt\", \"w\", encoding=\"utf-8\") as f:\n",
    "        f.write(text)\n"
   ]
  },
  {
   "cell_type": "code",
   "execution_count": 6,
   "metadata": {},
   "outputs": [],
   "source": [
    "\n",
    "\n",
    "def clean_and_chunk_text(txt_filename, chunk_size, output_excel_filename):\n",
    "    # Step 1: Read the file\n",
    "    with open(txt_filename, 'r', encoding='utf-8') as file:\n",
    "        text = file.read()\n",
    "\n",
    "    # Step 2: Clean the text to keep only alphanumeric characters and spaces\n",
    "    cleaned_text = re.sub(r'[^A-Za-z0-9\\s]', '', text)\n",
    "    \n",
    "    # Step 3: Split the cleaned text into words\n",
    "    words = cleaned_text.split()\n",
    "\n",
    "    # Step 4: Chunk the text into specified number of words\n",
    "    chunks = [' '.join(words[i:i + chunk_size]) for i in range(0, len(words), chunk_size)]\n",
    "\n",
    "    # Step 5: Create a DataFrame to store the chunks with an index\n",
    "    df = pd.DataFrame({'Index': range(1, len(chunks) + 1), 'Chunk': chunks})\n",
    "\n",
    "    # Step 6: Save the DataFrame to an Excel file\n",
    "    df.to_excel(output_excel_filename, index=False)\n",
    "\n",
    "# Example usage\n",
    "# clean_and_chunk_text('your_file.txt', 100, 'output_chunks.xlsx')\n"
   ]
  },
  {
   "cell_type": "code",
   "execution_count": 9,
   "metadata": {},
   "outputs": [],
   "source": [
    "for i in range(3, 11):\n",
    "    chunk_size = i * 100\n",
    "    clean_and_chunk_text('extracted_text.txt', chunk_size, f'chunks{chunk_size}.xlsx')"
   ]
  }
 ],
 "metadata": {
  "kernelspec": {
   "display_name": "Python 3",
   "language": "python",
   "name": "python3"
  },
  "language_info": {
   "codemirror_mode": {
    "name": "ipython",
    "version": 3
   },
   "file_extension": ".py",
   "mimetype": "text/x-python",
   "name": "python",
   "nbconvert_exporter": "python",
   "pygments_lexer": "ipython3",
   "version": "3.11.9"
  }
 },
 "nbformat": 4,
 "nbformat_minor": 2
}
