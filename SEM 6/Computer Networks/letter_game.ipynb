{
 "cells": [
  {
   "cell_type": "code",
   "execution_count": 9,
   "metadata": {},
   "outputs": [
    {
     "name": "stdout",
     "output_type": "stream",
     "text": [
      "{'a': 0.28, 'b': 0.57, 'c': 0.85, 'd': 1.14, 'e': 1.42, 'f': 1.71, 'g': 1.99, 'h': 2.28, 'i': 2.56, 'j': 2.85, 'k': 3.13, 'l': 3.42, 'm': 3.7, 'n': 3.99, 'o': 4.27, 'p': 4.56, 'q': 4.84, 'r': 5.13, 's': 5.41, 't': 5.7, 'u': 5.98, 'v': 6.27, 'w': 6.55, 'x': 6.84, 'y': 7.12, 'z': 7.41}\n",
      "100.0\n"
     ]
    }
   ],
   "source": [
    "def create_weighted_letters(total_sum=100):\n",
    "    raw_weights = [i + 1 for i in range(26)]\n",
    "    \n",
    "    raw_sum = sum(raw_weights)\n",
    "    letter_weight = [w * total_sum / raw_sum for w in raw_weights]\n",
    "    \n",
    "    return {chr(97 + i): round(letter_weight[i], 2) for i in range(26)}\n",
    "\n",
    "weighted_letters = create_weighted_letters()\n",
    "print(weighted_letters)\n",
    "\n",
    "total = 0\n",
    "for key in weighted_letters:\n",
    "    total += weighted_letters[key]\n",
    "print(round(total, 1))"
   ]
  },
  {
   "cell_type": "code",
   "execution_count": null,
   "metadata": {},
   "outputs": [],
   "source": [
    "def create_weighted_letters(total_sum=100):\n",
    "    raw_weights = [i for i in range(1,26)]\n",
    "    letter_weight = [w*raw_weights[w-1]/total_sum for w in raw_weights]\n",
    "    return \n",
    "    "
   ]
  },
  {
   "cell_type": "code",
   "execution_count": 1,
   "metadata": {},
   "outputs": [
    {
     "ename": "TypeError",
     "evalue": "'str' object cannot be interpreted as an integer",
     "output_type": "error",
     "traceback": [
      "\u001b[1;31m---------------------------------------------------------------------------\u001b[0m",
      "\u001b[1;31mTypeError\u001b[0m                                 Traceback (most recent call last)",
      "Cell \u001b[1;32mIn[1], line 1\u001b[0m\n\u001b[1;32m----> 1\u001b[0m \u001b[38;5;28;43mchr\u001b[39;49m\u001b[43m(\u001b[49m\u001b[38;5;124;43m'\u001b[39;49m\u001b[38;5;124;43ma\u001b[39;49m\u001b[38;5;124;43m'\u001b[39;49m\u001b[43m)\u001b[49m\n",
      "\u001b[1;31mTypeError\u001b[0m: 'str' object cannot be interpreted as an integer"
     ]
    }
   ],
   "source": [
    "chr('a')"
   ]
  }
 ],
 "metadata": {
  "kernelspec": {
   "display_name": "Python 3",
   "language": "python",
   "name": "python3"
  },
  "language_info": {
   "codemirror_mode": {
    "name": "ipython",
    "version": 3
   },
   "file_extension": ".py",
   "mimetype": "text/x-python",
   "name": "python",
   "nbconvert_exporter": "python",
   "pygments_lexer": "ipython3",
   "version": "3.11.9"
  }
 },
 "nbformat": 4,
 "nbformat_minor": 2
}
